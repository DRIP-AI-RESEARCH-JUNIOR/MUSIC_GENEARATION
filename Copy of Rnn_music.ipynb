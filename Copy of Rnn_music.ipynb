{
  "nbformat": 4,
  "nbformat_minor": 0,
  "metadata": {
    "colab": {
      "name": "Copy of Rnn_music.ipynb",
      "provenance": [],
      "collapsed_sections": [
        "oS4_Vzih73xp",
        "HItE4rcfepc_",
        "OLcK94Faz198"
      ]
    },
    "kernelspec": {
      "display_name": "Python 3",
      "name": "python3"
    },
    "accelerator": "GPU"
  },
  "cells": [
    {
      "cell_type": "code",
      "metadata": {
        "id": "F6WP9Avo3b2m",
        "colab": {
          "base_uri": "https://localhost:8080/"
        },
        "outputId": "22c604b6-00ed-4728-839f-63d16685c2c9"
      },
      "source": [
        "from google.colab import drive\n",
        "drive.mount('/content/drive')"
      ],
      "execution_count": null,
      "outputs": [
        {
          "output_type": "stream",
          "text": [
            "Mounted at /content/drive\n"
          ],
          "name": "stdout"
        }
      ]
    },
    {
      "cell_type": "code",
      "metadata": {
        "id": "fQMcBZEP6Y8D"
      },
      "source": [
        "!cp -r /content/drive/My\\ Drive/Nottingham /content"
      ],
      "execution_count": null,
      "outputs": []
    },
    {
      "cell_type": "code",
      "metadata": {
        "id": "39C4e6DD6ftk"
      },
      "source": [
        "!cp -r /content/drive/My\\ Drive/midi /content"
      ],
      "execution_count": null,
      "outputs": []
    },
    {
      "cell_type": "code",
      "metadata": {
        "id": "V9pFhTJZ186V"
      },
      "source": [
        "%matplotlib inline\n",
        "import os\n",
        "import sys\n",
        "import random\n",
        "import math\n",
        "sys.path.append('midi')\n",
        " \n",
        "import torch\n",
        "import torch.nn as nn\n",
        "from torch.autograd import Variable\n",
        "import torch.utils.data as data"
      ],
      "execution_count": null,
      "outputs": []
    },
    {
      "cell_type": "code",
      "metadata": {
        "id": "G0kur4RU3ZdI"
      },
      "source": [
        "from midi_utils import midiread, midiwrite\n",
        "from matplotlib import pyplot as plt\n",
        "import skimage.io as io\n",
        "from IPython.display import FileLink"
      ],
      "execution_count": null,
      "outputs": []
    },
    {
      "cell_type": "markdown",
      "metadata": {
        "id": "Dmds6E143mOl"
      },
      "source": [
        "# Data Loader"
      ]
    },
    {
      "cell_type": "code",
      "metadata": {
        "id": "35lkdEI13eBW"
      },
      "source": [
        "import numpy as np\n",
        "import torch\n",
        "import torch.utils.data as data\n",
        " \n",
        " \n",
        "def midi_filename_to_piano_roll(midi_filename):\n",
        "    \n",
        "    midi_data = midiread(midi_filename, dt=0.3)\n",
        "    \n",
        "    piano_roll = midi_data.piano_roll.transpose()\n",
        "    \n",
        "    # Pressed notes are replaced by 1\n",
        "    piano_roll[piano_roll > 0] = 1\n",
        "    \n",
        "    return piano_roll\n",
        " \n",
        " \n",
        "def pad_piano_roll(piano_roll, max_length=132333, pad_value=0):\n",
        "        \n",
        "    original_piano_roll_length = piano_roll.shape[1]\n",
        "    \n",
        "    padded_piano_roll = np.zeros((88, max_length))\n",
        "    padded_piano_roll[:] = pad_value\n",
        "    \n",
        "    padded_piano_roll[:, -original_piano_roll_length:] = piano_roll\n",
        " \n",
        "    return padded_piano_roll\n",
        " \n",
        " \n",
        "class NotesGenerationDataset(data.Dataset):\n",
        "    \n",
        "    def __init__(self, midi_folder_path, longest_sequence_length=1491):\n",
        "        \n",
        "        self.midi_folder_path = midi_folder_path\n",
        "        \n",
        "        midi_filenames = os.listdir(midi_folder_path)\n",
        "        \n",
        "        self.longest_sequence_length = longest_sequence_length\n",
        "        \n",
        "        midi_full_filenames = map(lambda filename: os.path.join(midi_folder_path, filename),midi_filenames)\n",
        "        \n",
        "        self.midi_full_filenames = list(midi_full_filenames)\n",
        "        \n",
        "        if longest_sequence_length is None:\n",
        "            \n",
        "            self.update_the_max_length()\n",
        "    \n",
        "    \n",
        "    def update_the_max_length(self):\n",
        "        \n",
        "        sequences_lengths = map(lambda filename: midi_filename_to_piano_roll(filename).shape[1],self.midi_full_filenames)\n",
        "        \n",
        "        max_length = max(sequences_lengths)\n",
        "        \n",
        "        self.longest_sequence_length = max_length\n",
        "                \n",
        "    \n",
        "    def __len__(self):\n",
        "        \n",
        "        return len(self.midi_full_filenames)\n",
        "    \n",
        "    def __getitem__(self, index):\n",
        "        \n",
        "        midi_full_filename = self.midi_full_filenames[index]\n",
        "        \n",
        "        piano_roll = midi_filename_to_piano_roll(midi_full_filename)\n",
        "        # print(\"piano_roll\",piano_roll.shape)\n",
        "        \n",
        "        # Shifting by one time step\n",
        "        sequence_length = piano_roll.shape[1] - 1\n",
        "        \n",
        "        # Shifting by one time step\n",
        "        input_sequence = piano_roll[:, :-1]\n",
        "        # print(\"input_sequence\",input_sequence.shape)\n",
        "        ground_truth_sequence = piano_roll[:, 1:]\n",
        "        # print(\"ground_truth\",ground_truth_sequence.shape)\n",
        "                \n",
        "        # padding sequence so that all of them have the same length\n",
        "        input_sequence_padded = pad_piano_roll(input_sequence, max_length=self.longest_sequence_length)\n",
        "        # print(\"input_sequence_padded\",input_sequence_padded.shape)\n",
        "        \n",
        "        ground_truth_sequence_padded = pad_piano_roll(ground_truth_sequence,max_length=self.longest_sequence_length,pad_value=-100)\n",
        "        # print(\"ground_sequence_padded\",ground_truth_sequence_padded.shape)\n",
        "                \n",
        "        input_sequence_padded = input_sequence_padded.transpose()\n",
        "        ground_truth_sequence_padded = ground_truth_sequence_padded.transpose()\n",
        "        \n",
        "        return (torch.FloatTensor(input_sequence_padded),torch.LongTensor(ground_truth_sequence_padded),torch.LongTensor([sequence_length]) )\n",
        " \n",
        "    \n",
        "def post_process_sequence_batch(batch_tuple):\n",
        "    \n",
        "    input_sequences, output_sequences, lengths = batch_tuple\n",
        "    \n",
        "    splitted_input_sequence_batch = input_sequences.split(split_size=1)\n",
        "    splitted_output_sequence_batch = output_sequences.split(split_size=1)\n",
        "    splitted_lengths_batch = lengths.split(split_size=1)\n",
        " \n",
        "    training_data_tuples = zip(splitted_input_sequence_batch,\n",
        "                               splitted_output_sequence_batch,\n",
        "                               splitted_lengths_batch)\n",
        " \n",
        "    training_data_tuples_sorted = sorted(training_data_tuples,\n",
        "                                         key=lambda p: int(p[2]),\n",
        "                                         reverse=True)\n",
        " \n",
        "    splitted_input_sequence_batch, splitted_output_sequence_batch, splitted_lengths_batch = zip(*training_data_tuples_sorted)\n",
        " \n",
        "    input_sequence_batch_sorted = torch.cat(splitted_input_sequence_batch)\n",
        "    output_sequence_batch_sorted = torch.cat(splitted_output_sequence_batch)\n",
        "    lengths_batch_sorted = torch.cat(splitted_lengths_batch)\n",
        "    \n",
        "    input_sequence_batch_sorted = input_sequence_batch_sorted[:, -lengths_batch_sorted[0, 0]:, :]\n",
        "    output_sequence_batch_sorted = output_sequence_batch_sorted[:, -lengths_batch_sorted[0, 0]:, :]\n",
        "    \n",
        "    input_sequence_batch_transposed = input_sequence_batch_sorted.transpose(0, 1)\n",
        "    \n",
        "    lengths_batch_sorted_list = list(lengths_batch_sorted)\n",
        "    lengths_batch_sorted_list = map(lambda x: int(x), lengths_batch_sorted_list)\n",
        "    \n",
        "    return input_sequence_batch_transposed, output_sequence_batch_sorted, list(lengths_batch_sorted_list)"
      ],
      "execution_count": null,
      "outputs": []
    },
    {
      "cell_type": "code",
      "metadata": {
        "id": "ElwXNHES4EBW"
      },
      "source": [
        "trainset = NotesGenerationDataset('Nottingham/train/', longest_sequence_length=None)\n",
        " \n",
        "trainset_loader = data.DataLoader(trainset, batch_size=8,shuffle=True, drop_last=True)"
      ],
      "execution_count": null,
      "outputs": []
    },
    {
      "cell_type": "code",
      "metadata": {
        "id": "oqzQzpeT6487"
      },
      "source": [
        "valset = NotesGenerationDataset('Nottingham/valid/', longest_sequence_length=None)\n",
        " \n",
        "valset_loader = data.DataLoader(valset, batch_size=8,shuffle=True, drop_last=True)"
      ],
      "execution_count": null,
      "outputs": []
    },
    {
      "cell_type": "code",
      "metadata": {
        "id": "CMWAHm_T5ABF",
        "colab": {
          "base_uri": "https://localhost:8080/"
        },
        "outputId": "61c186e7-8630-4d5f-9cc7-6a036015637f"
      },
      "source": [
        "a = next(iter(trainset_loader))\n",
        "print(a[0].shape, a[1].shape, a[2].shape)\n",
        "a[2]"
      ],
      "execution_count": null,
      "outputs": [
        {
          "output_type": "stream",
          "text": [
            "torch.Size([8, 1491, 88]) torch.Size([8, 1491, 88]) torch.Size([8, 1])\n"
          ],
          "name": "stdout"
        },
        {
          "output_type": "execute_result",
          "data": {
            "text/plain": [
              "tensor([[214],\n",
              "        [604],\n",
              "        [214],\n",
              "        [214],\n",
              "        [213],\n",
              "        [266],\n",
              "        [214],\n",
              "        [214]])"
            ]
          },
          "metadata": {
            "tags": []
          },
          "execution_count": 10
        }
      ]
    },
    {
      "cell_type": "markdown",
      "metadata": {
        "id": "urjG40vc5z0b"
      },
      "source": [
        "## RNN Model"
      ]
    },
    {
      "cell_type": "code",
      "metadata": {
        "id": "IWYCVuyh56CP"
      },
      "source": [
        "class RNN(nn.Module):\n",
        "    \n",
        "    def __init__(self, input_size, hidden_size, num_classes, n_layers=2):\n",
        "        \n",
        "        super(RNN, self).__init__()\n",
        "        \n",
        "        self.input_size = input_size\n",
        "        self.hidden_size = hidden_size\n",
        "        self.num_classes = num_classes\n",
        "        self.n_layers = n_layers\n",
        "        \n",
        "        self.notes_encoder = nn.Linear(in_features=input_size, out_features=hidden_size)\n",
        "        \n",
        "        self.bn = nn.BatchNorm1d(hidden_size)\n",
        "        \n",
        "        self.lstm = nn.LSTM(hidden_size, hidden_size, n_layers)\n",
        "        \n",
        "        self.logits_fc = nn.Linear(hidden_size, num_classes)\n",
        "    \n",
        "    \n",
        "    def forward(self, input_sequences, input_sequences_lengths, hidden=None):\n",
        "        batch_size = input_sequences.shape[1]\n",
        "        # print(\"input_sequences\",input_sequences.shape)\n",
        "        notes_encoded = self.notes_encoder(input_sequences)\n",
        "        \n",
        "        notes_encoded_rolled = notes_encoded.permute(1,2,0).contiguous()\n",
        "        notes_encoded_norm = self.bn(notes_encoded_rolled)\n",
        "        \n",
        "        notes_encoded_norm_drop = nn.Dropout(0.25)(notes_encoded_norm)\n",
        "        notes_encoded_complete = notes_encoded_norm_drop.permute(2,0,1)\n",
        "        \n",
        "        # Here we run rnns only on non-padded regions of the batch\n",
        "        packed = torch.nn.utils.rnn.pack_padded_sequence(notes_encoded_complete, input_sequences_lengths)\n",
        "        outputs, hidden = self.lstm(packed, hidden)\n",
        "        \n",
        "        # Here we unpack sequence(back to padded)\n",
        "        outputs, output_lengths = torch.nn.utils.rnn.pad_packed_sequence(outputs)\n",
        "        \n",
        "        outputs_norm = self.bn(outputs.permute(1,2,0).contiguous())\n",
        "        outputs_drop = nn.Dropout(0.1)(outputs_norm)\n",
        "        # print(\"outputs_drop\",outputs_drop.shape)\n",
        "        logits = self.logits_fc(outputs_drop.permute(2,0,1))\n",
        "        # print(\"logits_per\",logits.shape)\n",
        "        logits = logits.transpose(0, 1).contiguous()\n",
        "        # print(\"logits_trans\",logits.shape)\n",
        "        \n",
        "        neg_logits = (1 - logits)\n",
        "        # print(\"neg_logits\",neg_logits.shape)\n",
        "        # Since the BCE loss doesn't support masking,crossentropy is used\n",
        "        binary_logits = torch.stack((logits, neg_logits), dim=3).contiguous()\n",
        "        # print(\"binary_logits\",binary_logits.shape)\n",
        "        logits_flatten = binary_logits.view(-1, 2)\n",
        "        # print(\"logits_flatten\",logits_flatten.shape)\n",
        "        return logits_flatten, hidden"
      ],
      "execution_count": null,
      "outputs": []
    },
    {
      "cell_type": "code",
      "metadata": {
        "id": "4KAP3tXq6JrG"
      },
      "source": [
        "model = RNN(input_size=88, hidden_size=512, num_classes=88)\n",
        " \n",
        "criterion = nn.CrossEntropyLoss()\n",
        "criterion_val = nn.CrossEntropyLoss()"
      ],
      "execution_count": null,
      "outputs": []
    },
    {
      "cell_type": "code",
      "metadata": {
        "id": "bR5E8raA6Uhc"
      },
      "source": [
        "def validate(model):\n",
        "    model.eval()\n",
        "    full_val_loss = 0.0\n",
        "    overall_sequence_length = 0.0\n",
        " \n",
        "    for batch in valset_loader:\n",
        " \n",
        "        post_processed_batch_tuple = post_process_sequence_batch(batch)\n",
        " \n",
        "        input_sequences_batch, output_sequences_batch, sequences_lengths = post_processed_batch_tuple\n",
        " \n",
        "        output_sequences_batch_var =  Variable( output_sequences_batch.contiguous().view(-1).cuda() )\n",
        " \n",
        "        input_sequences_batch_var = Variable( input_sequences_batch.cuda() )\n",
        " \n",
        "        logits, _ = model(input_sequences_batch_var, sequences_lengths)\n",
        "        # print(\"logits\",logits.shape)\n",
        " \n",
        "        loss = criterion_val(logits, output_sequences_batch_var)\n",
        " \n",
        "        full_val_loss += loss.item()\n",
        "        overall_sequence_length += sum(sequences_lengths)\n",
        " \n",
        "    return full_val_loss / (overall_sequence_length * 88)"
      ],
      "execution_count": null,
      "outputs": []
    },
    {
      "cell_type": "code",
      "metadata": {
        "id": "wtsfh1Fr7Gl8"
      },
      "source": [
        "clip = 1.0\n",
        "epochs_number = 10\n",
        "sample_history = []\n",
        "best_val_loss = float(\"inf\")"
      ],
      "execution_count": null,
      "outputs": []
    },
    {
      "cell_type": "code",
      "metadata": {
        "id": "MuHDnsS27NlL"
      },
      "source": [
        "def lrfinder(start, end, model, trainset_loader, epochs=2):\n",
        "    model.train() # into training mode\n",
        "    lrs = np.linspace(start, end, epochs*len(trainset_loader))\n",
        "    parameters = filter(lambda p: p.requires_grad, model.parameters()) # get all parameters which need grad\n",
        "    optimizer = torch.optim.Adam(rnn.parameters(),start)\n",
        "    loss_list = []\n",
        "    ctr = 0\n",
        "    \n",
        "    for epoch_number in range(epochs):\n",
        "        epoch_loss = []\n",
        "        for batch in trainset_loader:\n",
        "            optimizer.param_groups[0]['lr'] = lrs[ctr]\n",
        "            ctr = ctr+1\n",
        " \n",
        "            post_processed_batch_tuple = post_process_sequence_batch(batch)\n",
        " \n",
        "            input_sequences_batch, output_sequences_batch, sequences_lengths = post_processed_batch_tuple\n",
        " \n",
        "            output_sequences_batch_var =  Variable( output_sequences_batch.contiguous().view(-1).cuda() )\n",
        " \n",
        "            input_sequences_batch_var = Variable( input_sequences_batch.cuda() )\n",
        " \n",
        "            optimizer.zero_grad()\n",
        " \n",
        "            logits, _ = model(input_sequences_batch_var, sequences_lengths)\n",
        " \n",
        "            loss = criterion(logits, output_sequences_batch_var)\n",
        "            loss_list.append(loss.item())\n",
        "            loss.backward()\n",
        " \n",
        "            torch.nn.utils.clip_grad_norm_(rnn.parameters(), clip)\n",
        " \n",
        "            optimizer.step()\n",
        "        print('Epoch %d' % epoch_number)\n",
        "    plt.plot(lrs, loss_list)\n",
        "    return lrs, loss_list"
      ],
      "execution_count": null,
      "outputs": []
    },
    {
      "cell_type": "code",
      "metadata": {
        "id": "oW9gl3Sn7OdK",
        "colab": {
          "base_uri": "https://localhost:8080/",
          "height": 1000
        },
        "outputId": "5ca63c15-db36-4e77-e338-8b2c4d2a3d29"
      },
      "source": [
        "rnn = RNN(input_size=88, hidden_size=512, num_classes=88)\n",
        "rnn = rnn.cuda()\n",
        "lrs, losses = lrfinder(1e-4, 1e-1*5, rnn, trainset_loader)"
      ],
      "execution_count": null,
      "outputs": [
        {
          "output_type": "stream",
          "text": [
            "input_sequences torch.Size([429, 8, 88])\n",
            "outputs_drop torch.Size([8, 512, 429])\n",
            "logits_per torch.Size([429, 8, 88])\n",
            "logits_trans torch.Size([8, 429, 88])\n",
            "neg_logits torch.Size([8, 429, 88])\n",
            "binary_logits torch.Size([8, 429, 88, 2])\n",
            "logits_flatten torch.Size([302016, 2])\n",
            "input_sequences torch.Size([374, 8, 88])\n",
            "outputs_drop torch.Size([8, 512, 374])\n",
            "logits_per torch.Size([374, 8, 88])\n",
            "logits_trans torch.Size([8, 374, 88])\n",
            "neg_logits torch.Size([8, 374, 88])\n",
            "binary_logits torch.Size([8, 374, 88, 2])\n",
            "logits_flatten torch.Size([263296, 2])\n",
            "input_sequences torch.Size([428, 8, 88])\n",
            "outputs_drop torch.Size([8, 512, 428])\n",
            "logits_per torch.Size([428, 8, 88])\n",
            "logits_trans torch.Size([8, 428, 88])\n",
            "neg_logits torch.Size([8, 428, 88])\n",
            "binary_logits torch.Size([8, 428, 88, 2])\n",
            "logits_flatten torch.Size([301312, 2])\n",
            "input_sequences torch.Size([214, 8, 88])\n",
            "outputs_drop torch.Size([8, 512, 214])\n",
            "logits_per torch.Size([214, 8, 88])\n",
            "logits_trans torch.Size([8, 214, 88])\n",
            "neg_logits torch.Size([8, 214, 88])\n",
            "binary_logits torch.Size([8, 214, 88, 2])\n",
            "logits_flatten torch.Size([150656, 2])\n",
            "input_sequences torch.Size([216, 8, 88])\n",
            "outputs_drop torch.Size([8, 512, 216])\n",
            "logits_per torch.Size([216, 8, 88])\n",
            "logits_trans torch.Size([8, 216, 88])\n",
            "neg_logits torch.Size([8, 216, 88])\n",
            "binary_logits torch.Size([8, 216, 88, 2])\n",
            "logits_flatten torch.Size([152064, 2])\n",
            "input_sequences torch.Size([321, 8, 88])\n",
            "outputs_drop torch.Size([8, 512, 321])\n",
            "logits_per torch.Size([321, 8, 88])\n",
            "logits_trans torch.Size([8, 321, 88])\n",
            "neg_logits torch.Size([8, 321, 88])\n",
            "binary_logits torch.Size([8, 321, 88, 2])\n",
            "logits_flatten torch.Size([225984, 2])\n",
            "input_sequences torch.Size([214, 8, 88])\n",
            "outputs_drop torch.Size([8, 512, 214])\n",
            "logits_per torch.Size([214, 8, 88])\n",
            "logits_trans torch.Size([8, 214, 88])\n",
            "neg_logits torch.Size([8, 214, 88])\n",
            "binary_logits torch.Size([8, 214, 88, 2])\n",
            "logits_flatten torch.Size([150656, 2])\n",
            "input_sequences torch.Size([268, 8, 88])\n",
            "outputs_drop torch.Size([8, 512, 268])\n",
            "logits_per torch.Size([268, 8, 88])\n",
            "logits_trans torch.Size([8, 268, 88])\n",
            "neg_logits torch.Size([8, 268, 88])\n",
            "binary_logits torch.Size([8, 268, 88, 2])\n",
            "logits_flatten torch.Size([188672, 2])\n",
            "input_sequences torch.Size([566, 8, 88])\n",
            "outputs_drop torch.Size([8, 512, 566])\n",
            "logits_per torch.Size([566, 8, 88])\n",
            "logits_trans torch.Size([8, 566, 88])\n",
            "neg_logits torch.Size([8, 566, 88])\n",
            "binary_logits torch.Size([8, 566, 88, 2])\n",
            "logits_flatten torch.Size([398464, 2])\n",
            "input_sequences torch.Size([214, 8, 88])\n",
            "outputs_drop torch.Size([8, 512, 214])\n",
            "logits_per torch.Size([214, 8, 88])\n",
            "logits_trans torch.Size([8, 214, 88])\n",
            "neg_logits torch.Size([8, 214, 88])\n",
            "binary_logits torch.Size([8, 214, 88, 2])\n",
            "logits_flatten torch.Size([150656, 2])\n",
            "input_sequences torch.Size([214, 8, 88])\n",
            "outputs_drop torch.Size([8, 512, 214])\n",
            "logits_per torch.Size([214, 8, 88])\n",
            "logits_trans torch.Size([8, 214, 88])\n",
            "neg_logits torch.Size([8, 214, 88])\n",
            "binary_logits torch.Size([8, 214, 88, 2])\n",
            "logits_flatten torch.Size([150656, 2])\n",
            "input_sequences torch.Size([600, 8, 88])\n",
            "outputs_drop torch.Size([8, 512, 600])\n",
            "logits_per torch.Size([600, 8, 88])\n",
            "logits_trans torch.Size([8, 600, 88])\n",
            "neg_logits torch.Size([8, 600, 88])\n",
            "binary_logits torch.Size([8, 600, 88, 2])\n",
            "logits_flatten torch.Size([422400, 2])\n",
            "input_sequences torch.Size([319, 8, 88])\n",
            "outputs_drop torch.Size([8, 512, 319])\n",
            "logits_per torch.Size([319, 8, 88])\n",
            "logits_trans torch.Size([8, 319, 88])\n",
            "neg_logits torch.Size([8, 319, 88])\n",
            "binary_logits torch.Size([8, 319, 88, 2])\n",
            "logits_flatten torch.Size([224576, 2])\n",
            "input_sequences torch.Size([640, 8, 88])\n",
            "outputs_drop torch.Size([8, 512, 640])\n",
            "logits_per torch.Size([640, 8, 88])\n",
            "logits_trans torch.Size([8, 640, 88])\n",
            "neg_logits torch.Size([8, 640, 88])\n",
            "binary_logits torch.Size([8, 640, 88, 2])\n",
            "logits_flatten torch.Size([450560, 2])\n"
          ],
          "name": "stdout"
        },
        {
          "output_type": "error",
          "ename": "KeyboardInterrupt",
          "evalue": "ignored",
          "traceback": [
            "\u001b[0;31m---------------------------------------------------------------------------\u001b[0m",
            "\u001b[0;31mKeyboardInterrupt\u001b[0m                         Traceback (most recent call last)",
            "\u001b[0;32m<ipython-input-54-fa7af15de15c>\u001b[0m in \u001b[0;36m<module>\u001b[0;34m()\u001b[0m\n\u001b[1;32m      1\u001b[0m \u001b[0mrnn\u001b[0m \u001b[0;34m=\u001b[0m \u001b[0mRNN\u001b[0m\u001b[0;34m(\u001b[0m\u001b[0minput_size\u001b[0m\u001b[0;34m=\u001b[0m\u001b[0;36m88\u001b[0m\u001b[0;34m,\u001b[0m \u001b[0mhidden_size\u001b[0m\u001b[0;34m=\u001b[0m\u001b[0;36m512\u001b[0m\u001b[0;34m,\u001b[0m \u001b[0mnum_classes\u001b[0m\u001b[0;34m=\u001b[0m\u001b[0;36m88\u001b[0m\u001b[0;34m)\u001b[0m\u001b[0;34m\u001b[0m\u001b[0;34m\u001b[0m\u001b[0m\n\u001b[1;32m      2\u001b[0m \u001b[0mrnn\u001b[0m \u001b[0;34m=\u001b[0m \u001b[0mrnn\u001b[0m\u001b[0;34m.\u001b[0m\u001b[0mcuda\u001b[0m\u001b[0;34m(\u001b[0m\u001b[0;34m)\u001b[0m\u001b[0;34m\u001b[0m\u001b[0;34m\u001b[0m\u001b[0m\n\u001b[0;32m----> 3\u001b[0;31m \u001b[0mlrs\u001b[0m\u001b[0;34m,\u001b[0m \u001b[0mlosses\u001b[0m \u001b[0;34m=\u001b[0m \u001b[0mlrfinder\u001b[0m\u001b[0;34m(\u001b[0m\u001b[0;36m1e-4\u001b[0m\u001b[0;34m,\u001b[0m \u001b[0;36m1e-1\u001b[0m\u001b[0;34m*\u001b[0m\u001b[0;36m5\u001b[0m\u001b[0;34m,\u001b[0m \u001b[0mrnn\u001b[0m\u001b[0;34m,\u001b[0m \u001b[0mtrainset_loader\u001b[0m\u001b[0;34m)\u001b[0m\u001b[0;34m\u001b[0m\u001b[0;34m\u001b[0m\u001b[0m\n\u001b[0m",
            "\u001b[0;32m<ipython-input-15-c5997674caf3>\u001b[0m in \u001b[0;36mlrfinder\u001b[0;34m(start, end, model, trainset_loader, epochs)\u001b[0m\n\u001b[1;32m      9\u001b[0m     \u001b[0;32mfor\u001b[0m \u001b[0mepoch_number\u001b[0m \u001b[0;32min\u001b[0m \u001b[0mrange\u001b[0m\u001b[0;34m(\u001b[0m\u001b[0mepochs\u001b[0m\u001b[0;34m)\u001b[0m\u001b[0;34m:\u001b[0m\u001b[0;34m\u001b[0m\u001b[0;34m\u001b[0m\u001b[0m\n\u001b[1;32m     10\u001b[0m         \u001b[0mepoch_loss\u001b[0m \u001b[0;34m=\u001b[0m \u001b[0;34m[\u001b[0m\u001b[0;34m]\u001b[0m\u001b[0;34m\u001b[0m\u001b[0;34m\u001b[0m\u001b[0m\n\u001b[0;32m---> 11\u001b[0;31m         \u001b[0;32mfor\u001b[0m \u001b[0mbatch\u001b[0m \u001b[0;32min\u001b[0m \u001b[0mtrainset_loader\u001b[0m\u001b[0;34m:\u001b[0m\u001b[0;34m\u001b[0m\u001b[0;34m\u001b[0m\u001b[0m\n\u001b[0m\u001b[1;32m     12\u001b[0m             \u001b[0moptimizer\u001b[0m\u001b[0;34m.\u001b[0m\u001b[0mparam_groups\u001b[0m\u001b[0;34m[\u001b[0m\u001b[0;36m0\u001b[0m\u001b[0;34m]\u001b[0m\u001b[0;34m[\u001b[0m\u001b[0;34m'lr'\u001b[0m\u001b[0;34m]\u001b[0m \u001b[0;34m=\u001b[0m \u001b[0mlrs\u001b[0m\u001b[0;34m[\u001b[0m\u001b[0mctr\u001b[0m\u001b[0;34m]\u001b[0m\u001b[0;34m\u001b[0m\u001b[0;34m\u001b[0m\u001b[0m\n\u001b[1;32m     13\u001b[0m             \u001b[0mctr\u001b[0m \u001b[0;34m=\u001b[0m \u001b[0mctr\u001b[0m\u001b[0;34m+\u001b[0m\u001b[0;36m1\u001b[0m\u001b[0;34m\u001b[0m\u001b[0;34m\u001b[0m\u001b[0m\n",
            "\u001b[0;32m/usr/local/lib/python3.6/dist-packages/torch/utils/data/dataloader.py\u001b[0m in \u001b[0;36m__next__\u001b[0;34m(self)\u001b[0m\n\u001b[1;32m    433\u001b[0m         \u001b[0;32mif\u001b[0m \u001b[0mself\u001b[0m\u001b[0;34m.\u001b[0m\u001b[0m_sampler_iter\u001b[0m \u001b[0;32mis\u001b[0m \u001b[0;32mNone\u001b[0m\u001b[0;34m:\u001b[0m\u001b[0;34m\u001b[0m\u001b[0;34m\u001b[0m\u001b[0m\n\u001b[1;32m    434\u001b[0m             \u001b[0mself\u001b[0m\u001b[0;34m.\u001b[0m\u001b[0m_reset\u001b[0m\u001b[0;34m(\u001b[0m\u001b[0;34m)\u001b[0m\u001b[0;34m\u001b[0m\u001b[0;34m\u001b[0m\u001b[0m\n\u001b[0;32m--> 435\u001b[0;31m         \u001b[0mdata\u001b[0m \u001b[0;34m=\u001b[0m \u001b[0mself\u001b[0m\u001b[0;34m.\u001b[0m\u001b[0m_next_data\u001b[0m\u001b[0;34m(\u001b[0m\u001b[0;34m)\u001b[0m\u001b[0;34m\u001b[0m\u001b[0;34m\u001b[0m\u001b[0m\n\u001b[0m\u001b[1;32m    436\u001b[0m         \u001b[0mself\u001b[0m\u001b[0;34m.\u001b[0m\u001b[0m_num_yielded\u001b[0m \u001b[0;34m+=\u001b[0m \u001b[0;36m1\u001b[0m\u001b[0;34m\u001b[0m\u001b[0;34m\u001b[0m\u001b[0m\n\u001b[1;32m    437\u001b[0m         \u001b[0;32mif\u001b[0m \u001b[0mself\u001b[0m\u001b[0;34m.\u001b[0m\u001b[0m_dataset_kind\u001b[0m \u001b[0;34m==\u001b[0m \u001b[0m_DatasetKind\u001b[0m\u001b[0;34m.\u001b[0m\u001b[0mIterable\u001b[0m \u001b[0;32mand\u001b[0m\u001b[0;31m \u001b[0m\u001b[0;31m\\\u001b[0m\u001b[0;34m\u001b[0m\u001b[0;34m\u001b[0m\u001b[0m\n",
            "\u001b[0;32m/usr/local/lib/python3.6/dist-packages/torch/utils/data/dataloader.py\u001b[0m in \u001b[0;36m_next_data\u001b[0;34m(self)\u001b[0m\n\u001b[1;32m    473\u001b[0m     \u001b[0;32mdef\u001b[0m \u001b[0m_next_data\u001b[0m\u001b[0;34m(\u001b[0m\u001b[0mself\u001b[0m\u001b[0;34m)\u001b[0m\u001b[0;34m:\u001b[0m\u001b[0;34m\u001b[0m\u001b[0;34m\u001b[0m\u001b[0m\n\u001b[1;32m    474\u001b[0m         \u001b[0mindex\u001b[0m \u001b[0;34m=\u001b[0m \u001b[0mself\u001b[0m\u001b[0;34m.\u001b[0m\u001b[0m_next_index\u001b[0m\u001b[0;34m(\u001b[0m\u001b[0;34m)\u001b[0m  \u001b[0;31m# may raise StopIteration\u001b[0m\u001b[0;34m\u001b[0m\u001b[0;34m\u001b[0m\u001b[0m\n\u001b[0;32m--> 475\u001b[0;31m         \u001b[0mdata\u001b[0m \u001b[0;34m=\u001b[0m \u001b[0mself\u001b[0m\u001b[0;34m.\u001b[0m\u001b[0m_dataset_fetcher\u001b[0m\u001b[0;34m.\u001b[0m\u001b[0mfetch\u001b[0m\u001b[0;34m(\u001b[0m\u001b[0mindex\u001b[0m\u001b[0;34m)\u001b[0m  \u001b[0;31m# may raise StopIteration\u001b[0m\u001b[0;34m\u001b[0m\u001b[0;34m\u001b[0m\u001b[0m\n\u001b[0m\u001b[1;32m    476\u001b[0m         \u001b[0;32mif\u001b[0m \u001b[0mself\u001b[0m\u001b[0;34m.\u001b[0m\u001b[0m_pin_memory\u001b[0m\u001b[0;34m:\u001b[0m\u001b[0;34m\u001b[0m\u001b[0;34m\u001b[0m\u001b[0m\n\u001b[1;32m    477\u001b[0m             \u001b[0mdata\u001b[0m \u001b[0;34m=\u001b[0m \u001b[0m_utils\u001b[0m\u001b[0;34m.\u001b[0m\u001b[0mpin_memory\u001b[0m\u001b[0;34m.\u001b[0m\u001b[0mpin_memory\u001b[0m\u001b[0;34m(\u001b[0m\u001b[0mdata\u001b[0m\u001b[0;34m)\u001b[0m\u001b[0;34m\u001b[0m\u001b[0;34m\u001b[0m\u001b[0m\n",
            "\u001b[0;32m/usr/local/lib/python3.6/dist-packages/torch/utils/data/_utils/fetch.py\u001b[0m in \u001b[0;36mfetch\u001b[0;34m(self, possibly_batched_index)\u001b[0m\n\u001b[1;32m     42\u001b[0m     \u001b[0;32mdef\u001b[0m \u001b[0mfetch\u001b[0m\u001b[0;34m(\u001b[0m\u001b[0mself\u001b[0m\u001b[0;34m,\u001b[0m \u001b[0mpossibly_batched_index\u001b[0m\u001b[0;34m)\u001b[0m\u001b[0;34m:\u001b[0m\u001b[0;34m\u001b[0m\u001b[0;34m\u001b[0m\u001b[0m\n\u001b[1;32m     43\u001b[0m         \u001b[0;32mif\u001b[0m \u001b[0mself\u001b[0m\u001b[0;34m.\u001b[0m\u001b[0mauto_collation\u001b[0m\u001b[0;34m:\u001b[0m\u001b[0;34m\u001b[0m\u001b[0;34m\u001b[0m\u001b[0m\n\u001b[0;32m---> 44\u001b[0;31m             \u001b[0mdata\u001b[0m \u001b[0;34m=\u001b[0m \u001b[0;34m[\u001b[0m\u001b[0mself\u001b[0m\u001b[0;34m.\u001b[0m\u001b[0mdataset\u001b[0m\u001b[0;34m[\u001b[0m\u001b[0midx\u001b[0m\u001b[0;34m]\u001b[0m \u001b[0;32mfor\u001b[0m \u001b[0midx\u001b[0m \u001b[0;32min\u001b[0m \u001b[0mpossibly_batched_index\u001b[0m\u001b[0;34m]\u001b[0m\u001b[0;34m\u001b[0m\u001b[0;34m\u001b[0m\u001b[0m\n\u001b[0m\u001b[1;32m     45\u001b[0m         \u001b[0;32melse\u001b[0m\u001b[0;34m:\u001b[0m\u001b[0;34m\u001b[0m\u001b[0;34m\u001b[0m\u001b[0m\n\u001b[1;32m     46\u001b[0m             \u001b[0mdata\u001b[0m \u001b[0;34m=\u001b[0m \u001b[0mself\u001b[0m\u001b[0;34m.\u001b[0m\u001b[0mdataset\u001b[0m\u001b[0;34m[\u001b[0m\u001b[0mpossibly_batched_index\u001b[0m\u001b[0;34m]\u001b[0m\u001b[0;34m\u001b[0m\u001b[0;34m\u001b[0m\u001b[0m\n",
            "\u001b[0;32m/usr/local/lib/python3.6/dist-packages/torch/utils/data/_utils/fetch.py\u001b[0m in \u001b[0;36m<listcomp>\u001b[0;34m(.0)\u001b[0m\n\u001b[1;32m     42\u001b[0m     \u001b[0;32mdef\u001b[0m \u001b[0mfetch\u001b[0m\u001b[0;34m(\u001b[0m\u001b[0mself\u001b[0m\u001b[0;34m,\u001b[0m \u001b[0mpossibly_batched_index\u001b[0m\u001b[0;34m)\u001b[0m\u001b[0;34m:\u001b[0m\u001b[0;34m\u001b[0m\u001b[0;34m\u001b[0m\u001b[0m\n\u001b[1;32m     43\u001b[0m         \u001b[0;32mif\u001b[0m \u001b[0mself\u001b[0m\u001b[0;34m.\u001b[0m\u001b[0mauto_collation\u001b[0m\u001b[0;34m:\u001b[0m\u001b[0;34m\u001b[0m\u001b[0;34m\u001b[0m\u001b[0m\n\u001b[0;32m---> 44\u001b[0;31m             \u001b[0mdata\u001b[0m \u001b[0;34m=\u001b[0m \u001b[0;34m[\u001b[0m\u001b[0mself\u001b[0m\u001b[0;34m.\u001b[0m\u001b[0mdataset\u001b[0m\u001b[0;34m[\u001b[0m\u001b[0midx\u001b[0m\u001b[0;34m]\u001b[0m \u001b[0;32mfor\u001b[0m \u001b[0midx\u001b[0m \u001b[0;32min\u001b[0m \u001b[0mpossibly_batched_index\u001b[0m\u001b[0;34m]\u001b[0m\u001b[0;34m\u001b[0m\u001b[0;34m\u001b[0m\u001b[0m\n\u001b[0m\u001b[1;32m     45\u001b[0m         \u001b[0;32melse\u001b[0m\u001b[0;34m:\u001b[0m\u001b[0;34m\u001b[0m\u001b[0;34m\u001b[0m\u001b[0m\n\u001b[1;32m     46\u001b[0m             \u001b[0mdata\u001b[0m \u001b[0;34m=\u001b[0m \u001b[0mself\u001b[0m\u001b[0;34m.\u001b[0m\u001b[0mdataset\u001b[0m\u001b[0;34m[\u001b[0m\u001b[0mpossibly_batched_index\u001b[0m\u001b[0;34m]\u001b[0m\u001b[0;34m\u001b[0m\u001b[0;34m\u001b[0m\u001b[0m\n",
            "\u001b[0;32m<ipython-input-7-0506b13639f8>\u001b[0m in \u001b[0;36m__getitem__\u001b[0;34m(self, index)\u001b[0m\n\u001b[1;32m     64\u001b[0m         \u001b[0mmidi_full_filename\u001b[0m \u001b[0;34m=\u001b[0m \u001b[0mself\u001b[0m\u001b[0;34m.\u001b[0m\u001b[0mmidi_full_filenames\u001b[0m\u001b[0;34m[\u001b[0m\u001b[0mindex\u001b[0m\u001b[0;34m]\u001b[0m\u001b[0;34m\u001b[0m\u001b[0;34m\u001b[0m\u001b[0m\n\u001b[1;32m     65\u001b[0m \u001b[0;34m\u001b[0m\u001b[0m\n\u001b[0;32m---> 66\u001b[0;31m         \u001b[0mpiano_roll\u001b[0m \u001b[0;34m=\u001b[0m \u001b[0mmidi_filename_to_piano_roll\u001b[0m\u001b[0;34m(\u001b[0m\u001b[0mmidi_full_filename\u001b[0m\u001b[0;34m)\u001b[0m\u001b[0;34m\u001b[0m\u001b[0;34m\u001b[0m\u001b[0m\n\u001b[0m\u001b[1;32m     67\u001b[0m         \u001b[0;31m# print(\"piano_roll\",piano_roll.shape)\u001b[0m\u001b[0;34m\u001b[0m\u001b[0;34m\u001b[0m\u001b[0;34m\u001b[0m\u001b[0m\n\u001b[1;32m     68\u001b[0m \u001b[0;34m\u001b[0m\u001b[0m\n",
            "\u001b[0;32m<ipython-input-7-0506b13639f8>\u001b[0m in \u001b[0;36mmidi_filename_to_piano_roll\u001b[0;34m(midi_filename)\u001b[0m\n\u001b[1;32m      6\u001b[0m \u001b[0;32mdef\u001b[0m \u001b[0mmidi_filename_to_piano_roll\u001b[0m\u001b[0;34m(\u001b[0m\u001b[0mmidi_filename\u001b[0m\u001b[0;34m)\u001b[0m\u001b[0;34m:\u001b[0m\u001b[0;34m\u001b[0m\u001b[0;34m\u001b[0m\u001b[0m\n\u001b[1;32m      7\u001b[0m \u001b[0;34m\u001b[0m\u001b[0m\n\u001b[0;32m----> 8\u001b[0;31m     \u001b[0mmidi_data\u001b[0m \u001b[0;34m=\u001b[0m \u001b[0mmidiread\u001b[0m\u001b[0;34m(\u001b[0m\u001b[0mmidi_filename\u001b[0m\u001b[0;34m,\u001b[0m \u001b[0mdt\u001b[0m\u001b[0;34m=\u001b[0m\u001b[0;36m0.3\u001b[0m\u001b[0;34m)\u001b[0m\u001b[0;34m\u001b[0m\u001b[0;34m\u001b[0m\u001b[0m\n\u001b[0m\u001b[1;32m      9\u001b[0m \u001b[0;34m\u001b[0m\u001b[0m\n\u001b[1;32m     10\u001b[0m     \u001b[0mpiano_roll\u001b[0m \u001b[0;34m=\u001b[0m \u001b[0mmidi_data\u001b[0m\u001b[0;34m.\u001b[0m\u001b[0mpiano_roll\u001b[0m\u001b[0;34m.\u001b[0m\u001b[0mtranspose\u001b[0m\u001b[0;34m(\u001b[0m\u001b[0;34m)\u001b[0m\u001b[0;34m\u001b[0m\u001b[0;34m\u001b[0m\u001b[0m\n",
            "\u001b[0;32m/content/midi/midi_utils.py\u001b[0m in \u001b[0;36m__init__\u001b[0;34m(self, filename, r, dt)\u001b[0m\n\u001b[1;32m     28\u001b[0m     \u001b[0mself\u001b[0m\u001b[0;34m.\u001b[0m\u001b[0mpiano_roll\u001b[0m \u001b[0;34m=\u001b[0m \u001b[0mnumpy\u001b[0m\u001b[0;34m.\u001b[0m\u001b[0mzeros\u001b[0m\u001b[0;34m(\u001b[0m\u001b[0;34m(\u001b[0m\u001b[0mlength\u001b[0m\u001b[0;34m,\u001b[0m \u001b[0mr\u001b[0m\u001b[0;34m[\u001b[0m\u001b[0;36m1\u001b[0m\u001b[0;34m]\u001b[0m\u001b[0;34m-\u001b[0m\u001b[0mr\u001b[0m\u001b[0;34m[\u001b[0m\u001b[0;36m0\u001b[0m\u001b[0;34m]\u001b[0m\u001b[0;34m)\u001b[0m\u001b[0;34m)\u001b[0m\u001b[0;34m\u001b[0m\u001b[0;34m\u001b[0m\u001b[0m\n\u001b[1;32m     29\u001b[0m     \u001b[0;32mfor\u001b[0m \u001b[0mn\u001b[0m \u001b[0;32min\u001b[0m \u001b[0mself\u001b[0m\u001b[0;34m.\u001b[0m\u001b[0mnotes\u001b[0m\u001b[0;34m:\u001b[0m\u001b[0;34m\u001b[0m\u001b[0;34m\u001b[0m\u001b[0m\n\u001b[0;32m---> 30\u001b[0;31m       \u001b[0mself\u001b[0m\u001b[0;34m.\u001b[0m\u001b[0mpiano_roll\u001b[0m\u001b[0;34m[\u001b[0m\u001b[0mint\u001b[0m\u001b[0;34m(\u001b[0m\u001b[0mnumpy\u001b[0m\u001b[0;34m.\u001b[0m\u001b[0mceil\u001b[0m\u001b[0;34m(\u001b[0m\u001b[0mn\u001b[0m\u001b[0;34m[\u001b[0m\u001b[0;36m1\u001b[0m\u001b[0;34m]\u001b[0m\u001b[0;34m/\u001b[0m\u001b[0mdt\u001b[0m\u001b[0;34m)\u001b[0m\u001b[0;34m)\u001b[0m \u001b[0;34m:\u001b[0m \u001b[0mint\u001b[0m\u001b[0;34m(\u001b[0m\u001b[0mnumpy\u001b[0m\u001b[0;34m.\u001b[0m\u001b[0mceil\u001b[0m\u001b[0;34m(\u001b[0m\u001b[0mn\u001b[0m\u001b[0;34m[\u001b[0m\u001b[0;36m2\u001b[0m\u001b[0;34m]\u001b[0m\u001b[0;34m/\u001b[0m\u001b[0mdt\u001b[0m\u001b[0;34m)\u001b[0m\u001b[0;34m)\u001b[0m\u001b[0;34m,\u001b[0m \u001b[0mn\u001b[0m\u001b[0;34m[\u001b[0m\u001b[0;36m0\u001b[0m\u001b[0;34m]\u001b[0m\u001b[0;34m-\u001b[0m\u001b[0mr\u001b[0m\u001b[0;34m[\u001b[0m\u001b[0;36m0\u001b[0m\u001b[0;34m]\u001b[0m\u001b[0;34m]\u001b[0m \u001b[0;34m=\u001b[0m \u001b[0;36m1\u001b[0m\u001b[0;34m\u001b[0m\u001b[0;34m\u001b[0m\u001b[0m\n\u001b[0m\u001b[1;32m     31\u001b[0m \u001b[0;34m\u001b[0m\u001b[0m\n\u001b[1;32m     32\u001b[0m   \u001b[0;32mdef\u001b[0m \u001b[0mabs_time_in_seconds\u001b[0m\u001b[0;34m(\u001b[0m\u001b[0mself\u001b[0m\u001b[0;34m)\u001b[0m\u001b[0;34m:\u001b[0m\u001b[0;34m\u001b[0m\u001b[0;34m\u001b[0m\u001b[0m\n",
            "\u001b[0;31mKeyboardInterrupt\u001b[0m: "
          ]
        }
      ]
    },
    {
      "cell_type": "code",
      "metadata": {
        "id": "voBsVhPX7RWY",
        "colab": {
          "base_uri": "https://localhost:8080/",
          "height": 283
        },
        "outputId": "2eac33bb-2ed9-4362-cebf-64eb7bff55bf"
      },
      "source": [
        "plt.plot(lrs[:15], losses[:15])"
      ],
      "execution_count": null,
      "outputs": [
        {
          "output_type": "execute_result",
          "data": {
            "text/plain": [
              "[<matplotlib.lines.Line2D at 0x7fb6cc57c3c8>]"
            ]
          },
          "metadata": {
            "tags": []
          },
          "execution_count": 17
        },
        {
          "output_type": "display_data",
          "data": {
            "image/png": "[encoded data removed]",
            "text/plain": [
              "<Figure size 432x288 with 1 Axes>"
            ]
          },
          "metadata": {
            "tags": []
          }
        }
      ]
    },
    {
      "cell_type": "code",
      "metadata": {
        "id": "6_T6riVS7g3S",
        "colab": {
          "base_uri": "https://localhost:8080/",
          "height": 282
        },
        "outputId": "8e1e9876-2a41-4a68-c7da-7cf70e46b2c8"
      },
      "source": [
        "def get_triangular_lr(lr_low, lr_high, mini_batches):\n",
        "    iterations = mini_batches\n",
        "    lr_mid = lr_high/7 + lr_low\n",
        "    up = np.linspace(lr_low, lr_high, int(round(iterations*0.35)))\n",
        "    down = np.linspace(lr_high, lr_mid, int(round(iterations*0.35)))\n",
        "    floor = np.linspace(lr_mid, lr_low, int(round(iterations*0.30)))\n",
        "    return np.hstack([up, down[1:], floor])\n",
        " \n",
        "lrs_triangular = get_triangular_lr(1e-2, 1e-2*3.5, len(trainset_loader))\n",
        "plt.plot(lrs_triangular)"
      ],
      "execution_count": null,
      "outputs": [
        {
          "output_type": "execute_result",
          "data": {
            "text/plain": [
              "[<matplotlib.lines.Line2D at 0x7f747261da90>]"
            ]
          },
          "metadata": {
            "tags": []
          },
          "execution_count": 37
        },
        {
          "output_type": "display_data",
          "data": {
            "image/png": "[encoded data removed]",
            "text/plain": [
              "<Figure size 432x288 with 1 Axes>"
            ]
          },
          "metadata": {
            "tags": [],
            "needs_background": "light"
          }
        }
      ]
    },
    {
      "cell_type": "code",
      "metadata": {
        "id": "YkPu-El-7kXb"
      },
      "source": [
        "clip = 1.0"
      ],
      "execution_count": null,
      "outputs": []
    },
    {
      "cell_type": "code",
      "metadata": {
        "id": "S0r_dFu27k4m"
      },
      "source": [
        "def train_model(model, lrs_triangular, epochs_number=2, wd=0.0, best_val_loss=float(\"inf\")):\n",
        "    loss_list = []\n",
        "    val_list =[]\n",
        "    optimizer = torch.optim.Adam(rnn.parameters(), lr=lrs_triangular[0], weight_decay=wd)\n",
        "    for epoch_number in range(epochs_number):\n",
        "        model.train()\n",
        "        epoch_loss = []\n",
        "        for lr, batch in zip(lrs_triangular, trainset_loader):\n",
        "            optimizer.param_groups[0]['lr'] = lr\n",
        " \n",
        "            post_processed_batch_tuple = post_process_sequence_batch(batch)\n",
        " \n",
        "            input_sequences_batch, output_sequences_batch, sequences_lengths = post_processed_batch_tuple\n",
        "            # print( \"input_sequences_batch, output_sequences_batch, sequences_lengths\", input_sequences_batch.shape, output_sequences_batch.shape, len(sequences_lengths))\n",
        " \n",
        "            output_sequences_batch_var =  Variable( output_sequences_batch.contiguous().view(-1).cuda() )\n",
        " \n",
        "            input_sequences_batch_var = Variable( input_sequences_batch.cuda() )\n",
        "            # print(input_sequences_batch_var.shape)\n",
        " \n",
        "            optimizer.zero_grad()\n",
        " \n",
        "            logits, _ = model(input_sequences_batch_var, sequences_lengths)\n",
        "            # print(\"output\",output_sequences_batch_var.shape)\n",
        " \n",
        "            loss = criterion(logits, output_sequences_batch_var)\n",
        "            loss_list.append(loss.item())\n",
        "            epoch_loss.append(loss.item())\n",
        "            loss.backward()\n",
        " \n",
        "            torch.nn.utils.clip_grad_norm_(model.parameters(), clip)\n",
        " \n",
        "            optimizer.step()\n",
        " \n",
        "        current_trn_epoch = sum(epoch_loss)/len(trainset_loader)\n",
        "        print('Training Loss: Epoch:',epoch_number,':', current_trn_epoch)\n",
        " \n",
        "        current_val_loss = validate(model)\n",
        "        print('Validation Loss: Epoch:',epoch_number,':', current_val_loss)\n",
        "        print('')\n",
        " \n",
        "        val_list.append(current_val_loss)\n",
        " \n",
        "        if current_val_loss < best_val_loss:\n",
        " \n",
        "            torch.save(model.state_dict(), 'music_model_padfront_regularized.pth')\n",
        "            best_val_loss = current_val_loss\n",
        "    return best_val_loss"
      ],
      "execution_count": null,
      "outputs": []
    },
    {
      "cell_type": "code",
      "metadata": {
        "id": "_GBBajtZ7paZ",
        "colab": {
          "base_uri": "https://localhost:8080/"
        },
        "outputId": "68b8aea7-ccd5-4c1e-8ed9-ad5d70d2496a"
      },
      "source": [
        "rnn = RNN(input_size=88, hidden_size=512, num_classes=88)\n",
        "rnn = rnn.cuda()\n",
        "lrs_triangular = get_triangular_lr(1e-2, 1e-2*3.5, len(trainset_loader))\n",
        "best_val_loss = train_model(rnn, lrs_triangular)"
      ],
      "execution_count": null,
      "outputs": [
        {
          "output_type": "stream",
          "text": [
            "Training Loss: Epoch: 0 : 0.22805845234976257\n",
            "Validation Loss: Epoch: 0 : 8.319310628124921e-07\n",
            "\n",
            "Training Loss: Epoch: 1 : 0.1033986492385698\n",
            "Validation Loss: Epoch: 1 : 7.240011548704122e-07\n",
            "\n"
          ],
          "name": "stdout"
        }
      ]
    },
    {
      "cell_type": "code",
      "metadata": {
        "id": "wU8ONg5M7sIb"
      },
      "source": [
        "lrs_triangular = get_triangular_lr(1e-3, 1e-2, len(trainset_loader))\n",
        "best_val_loss = train_model(rnn, lrs_triangular, epochs_number=2, wd=1e-4, best_val_loss=best_val_loss)"
      ],
      "execution_count": null,
      "outputs": []
    },
    {
      "cell_type": "code",
      "metadata": {
        "id": "mUNs86L37xDy"
      },
      "source": [
        "lrs_triangular = get_triangular_lr(1e-4, 1e-2, len(trainset_loader))\n",
        "best_val_loss = train_model(rnn, lrs_triangular, epochs_number=2, wd=1e-4*5, best_val_loss=best_val_loss)"
      ],
      "execution_count": null,
      "outputs": []
    },
    {
      "cell_type": "code",
      "metadata": {
        "id": "U_lWcZMz7z4A"
      },
      "source": [
        " rnn.load_state_dict(torch.load('music_model_padfront_regularized.pth',map_location = torch.device(\"cpu\")))"
      ],
      "execution_count": null,
      "outputs": []
    },
    {
      "cell_type": "markdown",
      "metadata": {
        "id": "oS4_Vzih73xp"
      },
      "source": [
        "# validate"
      ]
    },
    {
      "cell_type": "code",
      "metadata": {
        "id": "RkjUFpiv77_I"
      },
      "source": [
        "def sample_from_piano_rnn(rnn, sample_length=4, temperature=1, starting_sequence=None):\n",
        " \n",
        "    if starting_sequence is None:\n",
        "                \n",
        "        current_sequence_input = torch.zeros(1, 1, 88)\n",
        "        current_sequence_input[0, 0, 40] = 1\n",
        "        current_sequence_input[0, 0, 50] = 0\n",
        "        current_sequence_input[0, 0, 56] = 0\n",
        "        current_sequence_input = Variable(current_sequence_input.cuda())\n",
        "    else:\n",
        "        current_sequence_input = starting_sequence\n",
        "        \n",
        "    final_output_sequence = [current_sequence_input.data.squeeze(1)]\n",
        " \n",
        "    hidden = None\n",
        " \n",
        "    for i in range(sample_length):\n",
        " \n",
        "        output, hidden = rnn(current_sequence_input, [1], hidden)\n",
        " \n",
        "        probabilities = nn.functional.softmax(output.div(temperature), dim=1)\n",
        " \n",
        "        current_sequence_input = torch.multinomial(probabilities.data, 1).squeeze().unsqueeze(0).unsqueeze(1)\n",
        " \n",
        "        current_sequence_input = Variable(current_sequence_input.float())\n",
        " \n",
        "        final_output_sequence.append(current_sequence_input.data.squeeze(1))\n",
        " \n",
        "    sampled_sequence = torch.cat(final_output_sequence, dim=0).cpu().numpy()\n",
        "    \n",
        "    return sampled_sequence"
      ],
      "execution_count": null,
      "outputs": []
    },
    {
      "cell_type": "code",
      "metadata": {
        "id": "kmt8xlTQ783u"
      },
      "source": [
        "testset = NotesGenerationDataset('Nottingham/test/', longest_sequence_length=None)\n",
        " \n",
        "testset_loader = torch.utils.data.DataLoader(testset, batch_size=1,shuffle=True, drop_last=False)"
      ],
      "execution_count": null,
      "outputs": []
    },
    {
      "cell_type": "code",
      "metadata": {
        "id": "aQlxa0D58BBH"
      },
      "source": [
        "batch = next(iter(testset_loader))\n",
        "post_processed_batch_tuple = post_process_sequence_batch(batch)\n",
        " \n",
        "input_sequences_batch, output_sequences_batch, sequences_lengths = post_processed_batch_tuple\n",
        "\n",
        "output_sequences_batch_var =  output_sequences_batch.contiguous().view(-1).cuda()\n",
        " \n",
        "# input_sequences_batch_var = input_sequences_batch.cuda()\n",
        "input_sequences_batch_var = input_sequences_batch.cuda()\n",
        "input_sequences_batch_var.shape"
      ],
      "execution_count": null,
      "outputs": []
    },
    {
      "cell_type": "code",
      "metadata": {
        "id": "Sj2Xwxeu8Gf4"
      },
      "source": [
        "x = input_sequences_batch_var.cpu().numpy()\n",
        "plt.imshow(x.reshape((x.shape[0],88)).transpose(0,1))"
      ],
      "execution_count": null,
      "outputs": []
    },
    {
      "cell_type": "code",
      "metadata": {
        "id": "A92w9wQY8MRe"
      },
      "source": [
        "rnn.cuda()\n",
        "sample = sample_from_piano_rnn(rnn, sample_length=200, temperature=0.7,starting_sequence=None).transpose()\n",
        "io.imshow(sample)\n",
        "midiwrite('sample_reg_018.mid', sample.transpose(), dt=0.3)"
      ],
      "execution_count": null,
      "outputs": []
    },
    {
      "cell_type": "code",
      "metadata": {
        "id": "8pESqvK_8P6G"
      },
      "source": [
        "FileLink('sample_reg_018.mid')"
      ],
      "execution_count": null,
      "outputs": []
    },
    {
      "cell_type": "markdown",
      "metadata": {
        "id": "_oRzeQdA8Zbk"
      },
      "source": [
        ""
      ]
    },
    {
      "cell_type": "code",
      "metadata": {
        "id": "CLX3nCRP8WF3"
      },
      "source": [
        "import IPython.display as ipd\n",
        "ipd.Audio('./sample_reg_018.mp3')"
      ],
      "execution_count": null,
      "outputs": []
    },
    {
      "cell_type": "markdown",
      "metadata": {
        "id": "d9OCJGs90VYe"
      },
      "source": [
        "# **EXP-1**"
      ]
    },
    {
      "cell_type": "code",
      "metadata": {
        "id": "6-YaCobd0bAe"
      },
      "source": [
        "class PositionalEncoding(nn.Module):\n",
        "\n",
        "    def __init__(self, d_model, dropout=0.1, max_len=5000):\n",
        "        super(PositionalEncoding, self).__init__()\n",
        "        self.dropout = nn.Dropout(p=dropout)\n",
        "\n",
        "        pe = torch.zeros(max_len, d_model)\n",
        "        position = torch.arange(0, max_len, dtype=torch.float).unsqueeze(1)\n",
        "        div_term = torch.exp(torch.arange(0, d_model, 2).float() * (-math.log(10000.0) / d_model))\n",
        "        pe[:, 0::2] = torch.sin(position * div_term)\n",
        "        pe[:, 1::2] = torch.cos(position * div_term)\n",
        "        pe = pe.unsqueeze(0).transpose(0, 1)\n",
        "        self.register_buffer('pe', pe)\n",
        "\n",
        "    def forward(self, x):\n",
        "        x = x + self.pe[:x.size(0), :]\n",
        "        return self.dropout(x)"
      ],
      "execution_count": null,
      "outputs": []
    },
    {
      "cell_type": "code",
      "metadata": {
        "id": "0ihEe8sq0f1t"
      },
      "source": [
        "class TransformerModel(nn.Module):\n",
        "\n",
        "    def __init__(self,ninp, nhead, nhid, nlayers, dropout=0.5):\n",
        "        super(TransformerModel, self).__init__()\n",
        "        from torch.nn import TransformerEncoder, TransformerEncoderLayer\n",
        "        self.model_type = 'Transformer'\n",
        "        self.pos_encoder = PositionalEncoding(ninp, dropout)\n",
        "        encoder_layers = TransformerEncoderLayer(ninp, nhead, nhid, dropout)\n",
        "        self.transformer_encoder = TransformerEncoder(encoder_layers, nlayers)\n",
        "        self.fc = nn.Linear(ninp,ninp)\n",
        "        # self.encoder = nn.Embedding(ntoken, ninp)\n",
        "        self.ninp = ninp\n",
        "        # self.decoder = nn.Linear(ninp, ntoken)\n",
        "\n",
        "        # self.init_weights()\n",
        "\n",
        "    def generate_square_subsequent_mask(self, sz):\n",
        "        mask = (torch.triu(torch.ones(sz, sz)) == 1).transpose(0, 1)\n",
        "        mask = mask.float().masked_fill(mask == 0, float('-inf')).masked_fill(mask == 1, float(0.0))\n",
        "        return mask\n",
        "\n",
        "    # def init_weights(self):\n",
        "    #     initrange = 0.1\n",
        "    #     self.encoder.weight.data.uniform_(-initrange, initrange)\n",
        "    #     self.decoder.bias.data.zero_()\n",
        "    #     self.decoder.weight.data.uniform_(-initrange, initrange)\n",
        "\n",
        "    def forward(self, src, src_mask=None):\n",
        "        # print(\"src\",src.shape)\n",
        "        # src = self.encoder(src) * math.sqrt(self.ninp)\n",
        "        # print(\"src\",src.shape)\n",
        "        src = self.pos_encoder(src)\n",
        "        # print(\"src\",src.shape)\n",
        "        output = self.transformer_encoder(src)\n",
        "        # print(\"output\",output.shape)\n",
        "        output = self.fc(output)\n",
        "        # print(\"output\",output.shape)\n",
        "        logits = output.transpose(0, 1).contiguous()\n",
        "        # print(\"logits_trans\",logits.shape)      \n",
        "        neg_logits = (1 - logits)\n",
        "        # print(\"neg_logits\",neg_logits.shape)\n",
        "        # Since the BCE loss doesn't support masking,crossentropy is used\n",
        "        binary_logits = torch.stack((logits, neg_logits), dim=3).contiguous()\n",
        "        # print(\"binary_logits\",binary_logits.shape)\n",
        "        logits_flatten = binary_logits.view(-1, 2)\n",
        "        # print(\"logits_flatten\",logits_flatten.shape)\n",
        "        return logits_flatten"
      ],
      "execution_count": null,
      "outputs": []
    },
    {
      "cell_type": "code",
      "metadata": {
        "id": "EKoMnVRfdVX3"
      },
      "source": [
        "# ntokens = len(TEXT.vocab.stoi) # the size of vocabulary\n",
        "emsize = 88 # embedding dimension\n",
        "nhid = 200 # the dimension of the feedforward network model in nn.TransformerEncoder\n",
        "nlayers = 2 # the number of nn.TransformerEncoderLayer in nn.TransformerEncoder\n",
        "nhead = 2 # the number of heads in the multiheadattention models\n",
        "dropout = 0.2 # the dropout value\n",
        "model = TransformerModel(emsize, nhead, nhid, nlayers, dropout).cuda()"
      ],
      "execution_count": null,
      "outputs": []
    },
    {
      "cell_type": "code",
      "metadata": {
        "id": "kDp7b8_Gc3Lw",
        "colab": {
          "base_uri": "https://localhost:8080/"
        },
        "outputId": "6e3a88ef-1af5-45dd-9266-f873826a9232"
      },
      "source": [
        "batch = next(iter(trainset_loader))\n",
        "post_processed_batch_tuple = post_process_sequence_batch(batch)\n",
        " \n",
        "input_sequences_batch, output_sequences_batch, sequences_lengths = post_processed_batch_tuple\n",
        "# print(\"input_sequences_batch, output_sequences_batch, sequences_lengths\", input_sequences_batch.shape, output_sequences_batch.shape, len(sequences_lengths))\n",
        " \n",
        "# output_sequences_batch_var =  Variable( output_sequences_batch.contiguous().view(-1).cuda() )\n",
        "output_sequences_batch_var = output_sequences_batch.permute(1,0,2).contiguous().cuda()\n",
        "print(output_sequences_batch_var.shape)\n",
        "input_sequences_batch_var = input_sequences_batch.cuda()\n",
        "print(input_sequences_batch_var.shape)\n",
        "  \n",
        "logits = model(input_sequences_batch_var)\n",
        "print(\"logits\",logits.shape)"
      ],
      "execution_count": null,
      "outputs": [
        {
          "output_type": "stream",
          "text": [
            "input_sequences_batch, output_sequences_batch, sequences_lengths torch.Size([320, 8, 88]) torch.Size([8, 320, 88]) 8\n",
            "torch.Size([320, 8, 88])\n",
            "torch.Size([320, 8, 88])\n",
            "src torch.Size([320, 8, 88])\n",
            "src torch.Size([320, 8, 88])\n",
            "output torch.Size([320, 8, 88])\n",
            "output torch.Size([320, 8, 88])\n",
            "logits_trans torch.Size([8, 320, 88])\n",
            "neg_logits torch.Size([8, 320, 88])\n",
            "binary_logits torch.Size([8, 320, 88, 2])\n",
            "logits_flatten torch.Size([225280, 2])\n",
            "logits torch.Size([225280, 2])\n"
          ],
          "name": "stdout"
        }
      ]
    },
    {
      "cell_type": "code",
      "metadata": {
        "id": "H4uF3rhFEmv1"
      },
      "source": [
        "def lrfinder(start, end, model, trainset_loader, epochs=2):\n",
        "    model.train() # into training mode\n",
        "    lrs = np.linspace(start, end, epochs*len(trainset_loader))\n",
        "    parameters = filter(lambda p: p.requires_grad, model.parameters()) # get all parameters which need grad\n",
        "    optimizer = torch.optim.Adam(rnn.parameters(),start)\n",
        "    loss_list = []\n",
        "    ctr = 0\n",
        "    \n",
        "    for epoch_number in range(epochs):\n",
        "        epoch_loss = []\n",
        "        for batch in trainset_loader:\n",
        "            optimizer.param_groups[0]['lr'] = lrs[ctr]\n",
        "            ctr = ctr+1\n",
        " \n",
        "            post_processed_batch_tuple = post_process_sequence_batch(batch)\n",
        " \n",
        "            input_sequences_batch, output_sequences_batch, sequences_lengths = post_processed_batch_tuple\n",
        " \n",
        "            output_sequences_batch_var =  Variable( output_sequences_batch.contiguous().view(-1).cuda() )\n",
        " \n",
        "            input_sequences_batch_var = Variable( input_sequences_batch.cuda() )\n",
        " \n",
        "            optimizer.zero_grad()\n",
        " \n",
        "            logits, _ = model(input_sequences_batch_var, sequences_lengths)\n",
        " \n",
        "            loss = criterion(logits, output_sequences_batch_var)\n",
        "            loss_list.append(loss.item())\n",
        "            loss.backward()\n",
        " \n",
        "            torch.nn.utils.clip_grad_norm_(rnn.parameters(), clip)\n",
        " \n",
        "            optimizer.step()\n",
        "        print('Epoch %d' % epoch_number)\n",
        "    plt.plot(lrs, loss_list)\n",
        "    return lrs, loss_list"
      ],
      "execution_count": null,
      "outputs": []
    },
    {
      "cell_type": "code",
      "metadata": {
        "id": "U6LkxxkxE6qU"
      },
      "source": [
        "def get_triangular_lr(lr_low, lr_high, mini_batches):\n",
        "    iterations = mini_batches\n",
        "    lr_mid = lr_high/7 + lr_low\n",
        "    up = np.linspace(lr_low, lr_high, int(round(iterations*0.35)))\n",
        "    down = np.linspace(lr_high, lr_mid, int(round(iterations*0.35)))\n",
        "    floor = np.linspace(lr_mid, lr_low, int(round(iterations*0.30)))\n",
        "    return np.hstack([up, down[1:], floor])"
      ],
      "execution_count": null,
      "outputs": []
    },
    {
      "cell_type": "code",
      "metadata": {
        "id": "U3cK-siRM2yz"
      },
      "source": [
        "def validate(model):\n",
        "    model.eval()\n",
        "    full_val_loss = 0.0\n",
        "    overall_sequence_length = 0.0\n",
        " \n",
        "    for batch in valset_loader:\n",
        " \n",
        "        post_processed_batch_tuple = post_process_sequence_batch(batch)\n",
        " \n",
        "        input_sequences_batch, output_sequences_batch, sequences_lengths = post_processed_batch_tuple\n",
        " \n",
        "        output_sequences_batch_var = output_sequences_batch.contiguous().view(-1).cuda() \n",
        " \n",
        "        input_sequences_batch_var = input_sequences_batch.cuda() \n",
        " \n",
        "        logits = model(input_sequences_batch_var, sequences_lengths)\n",
        "        # print(\"logits\",logits.shape)\n",
        " \n",
        "        loss = criterion_val(logits, output_sequences_batch_var)\n",
        " \n",
        "        full_val_loss += loss.item()\n",
        "        overall_sequence_length += sum(sequences_lengths)\n",
        " \n",
        "    return full_val_loss / (overall_sequence_length * 88)"
      ],
      "execution_count": null,
      "outputs": []
    },
    {
      "cell_type": "code",
      "metadata": {
        "id": "YwJWTpByFEQv"
      },
      "source": [
        "def train_model(model, lrs_triangular, epochs_number=5, wd=0.0, best_val_loss=float(\"inf\")):\n",
        "    loss_list = []\n",
        "    val_list =[]\n",
        "    optimizer = torch.optim.Adam(model.parameters(), lr=lrs_triangular[0], weight_decay=wd)\n",
        "    for epoch_number in range(epochs_number):\n",
        "        model.train()\n",
        "        epoch_loss = []\n",
        "        for lr, batch in zip(lrs_triangular, trainset_loader):\n",
        "            optimizer.param_groups[0]['lr'] = lr\n",
        " \n",
        "            post_processed_batch_tuple = post_process_sequence_batch(batch)\n",
        " \n",
        "            input_sequences_batch, output_sequences_batch, sequences_lengths = post_processed_batch_tuple\n",
        "            # print( \"input_sequences_batch, output_sequences_batch, sequences_lengths\", input_sequences_batch.shape, output_sequences_batch.shape, len(sequences_lengths))\n",
        " \n",
        "            output_sequences_batch_var =  output_sequences_batch.contiguous().view(-1).cuda()\n",
        " \n",
        "            input_sequences_batch_var = input_sequences_batch.cuda()\n",
        "            # print(input_sequences_batch_var.shape)\n",
        " \n",
        "            optimizer.zero_grad()\n",
        " \n",
        "            logits = model(input_sequences_batch_var, sequences_lengths)\n",
        "            # print(\"output\",output_sequences_batch_var.shape)\n",
        " \n",
        "            loss = criterion(logits, output_sequences_batch_var)\n",
        "            loss_list.append(loss.item())\n",
        "            epoch_loss.append(loss.item())\n",
        "            loss.backward()\n",
        " \n",
        "            torch.nn.utils.clip_grad_norm_(model.parameters(), clip)\n",
        " \n",
        "            optimizer.step()\n",
        " \n",
        "        current_trn_epoch = sum(epoch_loss)/len(trainset_loader)\n",
        "        print('Training Loss: Epoch:',epoch_number,':', current_trn_epoch)\n",
        " \n",
        "        current_val_loss = validate(model)\n",
        "        print('Validation Loss: Epoch:',epoch_number,':', current_val_loss)\n",
        "        print('')\n",
        " \n",
        "        val_list.append(current_val_loss)\n",
        " \n",
        "        if current_val_loss < best_val_loss:\n",
        " \n",
        "            torch.save(model.state_dict(), 'music_model_padfront_regularized.pth')\n",
        "            best_val_loss = current_val_loss\n",
        "    return best_val_loss"
      ],
      "execution_count": null,
      "outputs": []
    },
    {
      "cell_type": "code",
      "metadata": {
        "id": "EJwHzKb6FMG1",
        "colab": {
          "base_uri": "https://localhost:8080/"
        },
        "outputId": "8b3ed784-e9ba-405b-c43c-e7a55208071a"
      },
      "source": [
        "emsize = 88 # embedding dimension\n",
        "nhid = 200 # the dimension of the feedforward network model in nn.TransformerEncoder\n",
        "nlayers = 2 # the number of nn.TransformerEncoderLayer in nn.TransformerEncoder\n",
        "nhead = 2 # the number of heads in the multiheadattention models\n",
        "dropout = 0.2 # the dropout value\n",
        "clip = 1.0\n",
        "best_val_loss = float(\"inf\")\n",
        "model = TransformerModel(emsize, nhead, nhid, nlayers, dropout).cuda()\n",
        "criterion = nn.CrossEntropyLoss()\n",
        "criterion_val = nn.CrossEntropyLoss()\n",
        "lrs_triangular = get_triangular_lr(1e-2, 1e-2*3.5, len(trainset_loader))\n",
        "best_val_loss = train_model(model, lrs_triangular)"
      ],
      "execution_count": null,
      "outputs": [
        {
          "output_type": "stream",
          "text": [
            "Training Loss: Epoch: 0 : 0.14503519808830218\n",
            "Validation Loss: Epoch: 0 : 7.517636007029678e-07\n",
            "\n",
            "Training Loss: Epoch: 1 : 0.11493732901506645\n",
            "Validation Loss: Epoch: 1 : 7.39191362876679e-07\n",
            "\n",
            "Training Loss: Epoch: 2 : 0.11418354320664738\n",
            "Validation Loss: Epoch: 2 : 7.584127456588481e-07\n",
            "\n",
            "Training Loss: Epoch: 3 : 0.11408784058551456\n",
            "Validation Loss: Epoch: 3 : 7.454765323638247e-07\n",
            "\n",
            "Training Loss: Epoch: 4 : 0.11427047597460968\n",
            "Validation Loss: Epoch: 4 : 7.44519288445025e-07\n",
            "\n"
          ],
          "name": "stdout"
        }
      ]
    },
    {
      "cell_type": "code",
      "metadata": {
        "id": "UHJbjIIJFRTy",
        "colab": {
          "base_uri": "https://localhost:8080/"
        },
        "outputId": "af666b81-7ec4-4e36-bd9f-547213c9833a"
      },
      "source": [
        "lrs_triangular = get_triangular_lr(1e-3, 1e-2, len(trainset_loader))\n",
        "best_val_loss = train_model(model, lrs_triangular, epochs_number=2, wd=1e-4, best_val_loss=best_val_loss)"
      ],
      "execution_count": null,
      "outputs": [
        {
          "output_type": "stream",
          "text": [
            "Training Loss: Epoch: 0 : 0.11171842583043631\n",
            "Validation Loss: Epoch: 0 : 6.552056531729898e-07\n",
            "\n",
            "Training Loss: Epoch: 1 : 0.09327773567895557\n",
            "Validation Loss: Epoch: 1 : 5.217086679354278e-07\n",
            "\n"
          ],
          "name": "stdout"
        }
      ]
    },
    {
      "cell_type": "code",
      "metadata": {
        "id": "EJG8Zp0bFeU3",
        "colab": {
          "base_uri": "https://localhost:8080/"
        },
        "outputId": "29b88abd-1915-4985-e2e9-1e5b41ddbb71"
      },
      "source": [
        "lrs_triangular = get_triangular_lr(1e-4, 1e-2, len(trainset_loader))\n",
        "best_val_loss = train_model(model, lrs_triangular, epochs_number=2, wd=1e-4*5, best_val_loss=best_val_loss)"
      ],
      "execution_count": null,
      "outputs": [
        {
          "output_type": "stream",
          "text": [
            "Training Loss: Epoch: 0 : 0.08663557417864023\n",
            "Validation Loss: Epoch: 0 : 5.18805455603513e-07\n",
            "\n",
            "Training Loss: Epoch: 1 : 0.08562649465924085\n",
            "Validation Loss: Epoch: 1 : 5.072821968429208e-07\n",
            "\n"
          ],
          "name": "stdout"
        }
      ]
    },
    {
      "cell_type": "code",
      "metadata": {
        "id": "StR8i5y_Fik_",
        "colab": {
          "base_uri": "https://localhost:8080/"
        },
        "outputId": "19943074-8792-42e3-b409-9af86d9cc28b"
      },
      "source": [
        "model.load_state_dict(torch.load('music_model_padfront_regularized.pth',map_location = torch.device(\"cpu\")))"
      ],
      "execution_count": null,
      "outputs": [
        {
          "output_type": "execute_result",
          "data": {
            "text/plain": [
              "<All keys matched successfully>"
            ]
          },
          "metadata": {
            "tags": []
          },
          "execution_count": 64
        }
      ]
    },
    {
      "cell_type": "code",
      "metadata": {
        "id": "QuJgMrFQQnLs"
      },
      "source": [
        "def sample_from_piano_rnn(rnn, sample_length=4, temperature=1, starting_sequence=None):\n",
        " \n",
        "    if starting_sequence is None:\n",
        "                \n",
        "        current_sequence_input = torch.zeros(1, 1, 88)\n",
        "        current_sequence_input[0, 0, 40] = 1\n",
        "        current_sequence_input[0, 0, 50] = 0\n",
        "        current_sequence_input[0, 0, 56] = 0\n",
        "        current_sequence_input = Variable(current_sequence_input.cuda())\n",
        "    else:\n",
        "        current_sequence_input = starting_sequence\n",
        "        \n",
        "    final_output_sequence = [current_sequence_input.data.squeeze(1)]\n",
        " \n",
        "    hidden = None\n",
        " \n",
        "    for i in range(sample_length):\n",
        " \n",
        "        output = rnn(current_sequence_input)\n",
        " \n",
        "        probabilities = nn.functional.softmax(output.div(temperature), dim=1)\n",
        " \n",
        "        current_sequence_input = torch.multinomial(probabilities.data, 1).squeeze().unsqueeze(0).unsqueeze(1)\n",
        " \n",
        "        current_sequence_input = Variable(current_sequence_input.float())\n",
        " \n",
        "        final_output_sequence.append(current_sequence_input.data.squeeze(1))\n",
        " \n",
        "    sampled_sequence = torch.cat(final_output_sequence, dim=0).cpu().numpy()\n",
        "    \n",
        "    return sampled_sequence"
      ],
      "execution_count": null,
      "outputs": []
    },
    {
      "cell_type": "markdown",
      "metadata": {
        "id": "29ugSpzFauo2"
      },
      "source": [
        "TESTING"
      ]
    },
    {
      "cell_type": "code",
      "metadata": {
        "id": "Gf8XrWGYUlz-"
      },
      "source": [
        "!cp /content/Nottingham/test/ashover_simple_chords_11.mid /content/test1"
      ],
      "execution_count": null,
      "outputs": []
    },
    {
      "cell_type": "code",
      "metadata": {
        "id": "FFWuKMtPZAti"
      },
      "source": [
        "os.rmdir('/content/test1/.ipynb_checkpoints')"
      ],
      "execution_count": null,
      "outputs": []
    },
    {
      "cell_type": "code",
      "metadata": {
        "id": "5VfNEXhmQpZZ"
      },
      "source": [
        "testset = NotesGenerationDataset('/content/test1', longest_sequence_length=None)\n",
        " \n",
        "testset_loader = torch.utils.data.DataLoader(testset, batch_size=1,shuffle=True, drop_last=False)"
      ],
      "execution_count": null,
      "outputs": []
    },
    {
      "cell_type": "code",
      "metadata": {
        "id": "rLcsJ1I4RGdg",
        "colab": {
          "base_uri": "https://localhost:8080/"
        },
        "outputId": "6a5428ac-c995-4224-da85-1b68d6068712"
      },
      "source": [
        "batch = next(iter(testset_loader))\n",
        "post_processed_batch_tuple = post_process_sequence_batch(batch)\n",
        " \n",
        "input_sequences_batch, output_sequences_batch, sequences_lengths = post_processed_batch_tuple\n",
        "\n",
        "output_sequences_batch_var =  output_sequences_batch.contiguous().view(-1).cuda()\n",
        " \n",
        "# input_sequences_batch_var = input_sequences_batch.cuda()\n",
        "input_sequences_batch_var = input_sequences_batch.cuda()\n",
        "input_sequences_batch_var.shape"
      ],
      "execution_count": null,
      "outputs": [
        {
          "output_type": "execute_result",
          "data": {
            "text/plain": [
              "torch.Size([160, 1, 88])"
            ]
          },
          "metadata": {
            "tags": []
          },
          "execution_count": 70
        }
      ]
    },
    {
      "cell_type": "code",
      "metadata": {
        "id": "rL2whbjlRJwK",
        "colab": {
          "base_uri": "https://localhost:8080/",
          "height": 218
        },
        "outputId": "ed84d776-d449-4fc7-b203-83950604b526"
      },
      "source": [
        "model.cuda()\n",
        "sample = sample_from_piano_rnn(model, sample_length=200, temperature=0.7,starting_sequence=None).transpose()\n",
        "io.imshow(sample)\n",
        "midiwrite('testing_trans.mid', sample.transpose(), dt=0.3)"
      ],
      "execution_count": null,
      "outputs": [
        {
          "output_type": "display_data",
          "data": {
            "image/png": "[encoded data removed]",
            "text/plain": [
              "<Figure size 432x288 with 1 Axes>"
            ]
          },
          "metadata": {
            "tags": [],
            "needs_background": "light"
          }
        }
      ]
    },
    {
      "cell_type": "code",
      "metadata": {
        "id": "mmj5aaShRSns",
        "colab": {
          "base_uri": "https://localhost:8080/",
          "height": 34
        },
        "outputId": "de812d00-2511-4b29-eb05-81276985a89c"
      },
      "source": [
        "FileLink('testing_trans.mid')"
      ],
      "execution_count": null,
      "outputs": [
        {
          "output_type": "execute_result",
          "data": {
            "text/html": [
              "<a href='/content/test1/testing_trans.mid' target='_blank'>/content/test1/testing_trans.mid</a><br>"
            ],
            "text/plain": [
              "/content/test1/testing_trans.mid"
            ]
          },
          "metadata": {
            "tags": []
          },
          "execution_count": 72
        }
      ]
    },
    {
      "cell_type": "markdown",
      "metadata": {
        "id": "HItE4rcfepc_"
      },
      "source": [
        "# TRANSFORMER"
      ]
    },
    {
      "cell_type": "code",
      "metadata": {
        "id": "c02-LkbR5YIL"
      },
      "source": [
        "import math\n",
        "import torch\n",
        "import torch.nn as nn\n",
        "import torch.nn.functional as F"
      ],
      "execution_count": null,
      "outputs": []
    },
    {
      "cell_type": "code",
      "metadata": {
        "id": "9cIrV_FZ-vwD",
        "colab": {
          "base_uri": "https://localhost:8080/"
        },
        "outputId": "ddd9e13f-bce3-46c2-c5ab-d7498f1cdf00"
      },
      "source": [
        "!python -m spacy download en"
      ],
      "execution_count": null,
      "outputs": [
        {
          "output_type": "stream",
          "text": [
            "Requirement already satisfied: en_core_web_sm==2.2.5 from https://github.com/explosion/spacy-models/releases/download/en_core_web_sm-2.2.5/en_core_web_sm-2.2.5.tar.gz#egg=en_core_web_sm==2.2.5 in /usr/local/lib/python3.6/dist-packages (2.2.5)\n",
            "Requirement already satisfied: spacy>=2.2.2 in /usr/local/lib/python3.6/dist-packages (from en_core_web_sm==2.2.5) (2.2.4)\n",
            "Requirement already satisfied: preshed<3.1.0,>=3.0.2 in /usr/local/lib/python3.6/dist-packages (from spacy>=2.2.2->en_core_web_sm==2.2.5) (3.0.2)\n",
            "Requirement already satisfied: wasabi<1.1.0,>=0.4.0 in /usr/local/lib/python3.6/dist-packages (from spacy>=2.2.2->en_core_web_sm==2.2.5) (0.8.0)\n",
            "Requirement already satisfied: murmurhash<1.1.0,>=0.28.0 in /usr/local/lib/python3.6/dist-packages (from spacy>=2.2.2->en_core_web_sm==2.2.5) (1.0.3)\n",
            "Requirement already satisfied: cymem<2.1.0,>=2.0.2 in /usr/local/lib/python3.6/dist-packages (from spacy>=2.2.2->en_core_web_sm==2.2.5) (2.0.4)\n",
            "Requirement already satisfied: thinc==7.4.0 in /usr/local/lib/python3.6/dist-packages (from spacy>=2.2.2->en_core_web_sm==2.2.5) (7.4.0)\n",
            "Requirement already satisfied: catalogue<1.1.0,>=0.0.7 in /usr/local/lib/python3.6/dist-packages (from spacy>=2.2.2->en_core_web_sm==2.2.5) (1.0.0)\n",
            "Requirement already satisfied: srsly<1.1.0,>=1.0.2 in /usr/local/lib/python3.6/dist-packages (from spacy>=2.2.2->en_core_web_sm==2.2.5) (1.0.2)\n",
            "Requirement already satisfied: blis<0.5.0,>=0.4.0 in /usr/local/lib/python3.6/dist-packages (from spacy>=2.2.2->en_core_web_sm==2.2.5) (0.4.1)\n",
            "Requirement already satisfied: numpy>=1.15.0 in /usr/local/lib/python3.6/dist-packages (from spacy>=2.2.2->en_core_web_sm==2.2.5) (1.18.5)\n",
            "Requirement already satisfied: requests<3.0.0,>=2.13.0 in /usr/local/lib/python3.6/dist-packages (from spacy>=2.2.2->en_core_web_sm==2.2.5) (2.23.0)\n",
            "Requirement already satisfied: plac<1.2.0,>=0.9.6 in /usr/local/lib/python3.6/dist-packages (from spacy>=2.2.2->en_core_web_sm==2.2.5) (1.1.3)\n",
            "Requirement already satisfied: setuptools in /usr/local/lib/python3.6/dist-packages (from spacy>=2.2.2->en_core_web_sm==2.2.5) (50.3.2)\n",
            "Requirement already satisfied: tqdm<5.0.0,>=4.38.0 in /usr/local/lib/python3.6/dist-packages (from spacy>=2.2.2->en_core_web_sm==2.2.5) (4.41.1)\n",
            "Requirement already satisfied: importlib-metadata>=0.20; python_version < \"3.8\" in /usr/local/lib/python3.6/dist-packages (from catalogue<1.1.0,>=0.0.7->spacy>=2.2.2->en_core_web_sm==2.2.5) (2.0.0)\n",
            "Requirement already satisfied: chardet<4,>=3.0.2 in /usr/local/lib/python3.6/dist-packages (from requests<3.0.0,>=2.13.0->spacy>=2.2.2->en_core_web_sm==2.2.5) (3.0.4)\n",
            "Requirement already satisfied: urllib3!=1.25.0,!=1.25.1,<1.26,>=1.21.1 in /usr/local/lib/python3.6/dist-packages (from requests<3.0.0,>=2.13.0->spacy>=2.2.2->en_core_web_sm==2.2.5) (1.24.3)\n",
            "Requirement already satisfied: certifi>=2017.4.17 in /usr/local/lib/python3.6/dist-packages (from requests<3.0.0,>=2.13.0->spacy>=2.2.2->en_core_web_sm==2.2.5) (2020.6.20)\n",
            "Requirement already satisfied: idna<3,>=2.5 in /usr/local/lib/python3.6/dist-packages (from requests<3.0.0,>=2.13.0->spacy>=2.2.2->en_core_web_sm==2.2.5) (2.10)\n",
            "Requirement already satisfied: zipp>=0.5 in /usr/local/lib/python3.6/dist-packages (from importlib-metadata>=0.20; python_version < \"3.8\"->catalogue<1.1.0,>=0.0.7->spacy>=2.2.2->en_core_web_sm==2.2.5) (3.4.0)\n",
            "\u001b[38;5;2m✔ Download and installation successful\u001b[0m\n",
            "You can now load the model via spacy.load('en_core_web_sm')\n",
            "\u001b[38;5;2m✔ Linking successful\u001b[0m\n",
            "/usr/local/lib/python3.6/dist-packages/en_core_web_sm -->\n",
            "/usr/local/lib/python3.6/dist-packages/spacy/data/en\n",
            "You can now load the model via spacy.load('en')\n"
          ],
          "name": "stdout"
        }
      ]
    },
    {
      "cell_type": "code",
      "metadata": {
        "id": "7LDprYJd-3lq",
        "colab": {
          "base_uri": "https://localhost:8080/"
        },
        "outputId": "e16d9f20-8d25-4f2f-f6fe-c26534cbcd02"
      },
      "source": [
        "import torchtext\n",
        "from torchtext.data.utils import get_tokenizer\n",
        "TEXT = torchtext.data.Field(tokenize=get_tokenizer(\"spacy\"),\n",
        "                            init_token='<sos>',\n",
        "                            eos_token='<eos>',\n",
        "                            lower=True)\n",
        "train_txt, val_txt, test_txt = torchtext.datasets.WikiText2.splits(TEXT)\n",
        "TEXT.build_vocab(train_txt)\n",
        "device = torch.device(\"cuda\" if torch.cuda.is_available() else \"cpu\")"
      ],
      "execution_count": null,
      "outputs": [
        {
          "output_type": "stream",
          "text": [
            "downloading wikitext-2-v1.zip\n"
          ],
          "name": "stdout"
        },
        {
          "output_type": "stream",
          "text": [
            "wikitext-2-v1.zip: 100%|██████████| 4.48M/4.48M [00:00<00:00, 8.06MB/s]\n"
          ],
          "name": "stderr"
        },
        {
          "output_type": "stream",
          "text": [
            "extracting\n"
          ],
          "name": "stdout"
        }
      ]
    },
    {
      "cell_type": "code",
      "metadata": {
        "id": "80v5r75gEMEX"
      },
      "source": [
        "TEXT.build_vocab"
      ],
      "execution_count": null,
      "outputs": []
    },
    {
      "cell_type": "code",
      "metadata": {
        "id": "tomBv_17_FOR"
      },
      "source": [
        "def batchify(data, bsz):\n",
        "    data = TEXT.numericalize([data.examples[0].text])\n",
        "    # Divide the dataset into bsz parts.\n",
        "    nbatch = data.size(0) // bsz\n",
        "    # Trim off any extra elements that wouldn't cleanly fit (remainders).\n",
        "    data = data.narrow(0, 0, nbatch * bsz)\n",
        "    # Evenly divide the data across the bsz batches.\n",
        "    data = data.view(bsz, -1).t().contiguous()\n",
        "    return data.to(device)\n",
        "\n",
        "batch_size = 20\n",
        "eval_batch_size = 10\n",
        "train_data = batchify(train_txt, batch_size)\n",
        "val_data = batchify(val_txt, eval_batch_size)\n",
        "test_data = batchify(test_txt, eval_batch_size)"
      ],
      "execution_count": null,
      "outputs": []
    },
    {
      "cell_type": "code",
      "metadata": {
        "id": "y8DWY4rS_R1X"
      },
      "source": [
        "bptt = 35\n",
        "def get_batch(source, i):\n",
        "    seq_len = min(bptt, len(source) - 1 - i)\n",
        "    data = source[i:i+seq_len]\n",
        "    target = source[i+1:i+1+seq_len].reshape(-1)\n",
        "    return data, target"
      ],
      "execution_count": null,
      "outputs": []
    },
    {
      "cell_type": "code",
      "metadata": {
        "id": "fa0wYaXc_ZWO"
      },
      "source": [
        "ntokens = len(TEXT.vocab.stoi) # the size of vocabulary\n",
        "emsize = 200 # embedding dimension\n",
        "nhid = 200 # the dimension of the feedforward network model in nn.TransformerEncoder\n",
        "nlayers = 2 # the number of nn.TransformerEncoderLayer in nn.TransformerEncoder\n",
        "nhead = 2 # the number of heads in the multiheadattention models\n",
        "dropout = 0.2 # the dropout value\n",
        "model = TransformerModel(ntokens, emsize, nhead, nhid, nlayers, dropout).to(device)"
      ],
      "execution_count": null,
      "outputs": []
    },
    {
      "cell_type": "code",
      "metadata": {
        "id": "NmGQej5F5ftG"
      },
      "source": [
        "class PositionalEncoding(nn.Module):\n",
        "\n",
        "    def __init__(self, d_model, dropout=0.1, max_len=5000):\n",
        "        super(PositionalEncoding, self).__init__()\n",
        "        self.dropout = nn.Dropout(p=dropout)\n",
        "\n",
        "        pe = torch.zeros(max_len, d_model)\n",
        "        position = torch.arange(0, max_len, dtype=torch.float).unsqueeze(1)\n",
        "        div_term = torch.exp(torch.arange(0, d_model, 2).float() * (-math.log(10000.0) / d_model))\n",
        "        pe[:, 0::2] = torch.sin(position * div_term)\n",
        "        pe[:, 1::2] = torch.cos(position * div_term)\n",
        "        pe = pe.unsqueeze(0).transpose(0, 1)\n",
        "        self.register_buffer('pe', pe)\n",
        "\n",
        "    def forward(self, x):\n",
        "        x = x + self.pe[:x.size(0), :]\n",
        "        return self.dropout(x)"
      ],
      "execution_count": null,
      "outputs": []
    },
    {
      "cell_type": "code",
      "metadata": {
        "id": "6KxRLK2f5jJS"
      },
      "source": [
        "class TransformerModel(nn.Module):\n",
        "\n",
        "    def __init__(self, ntoken, ninp, nhead, nhid, nlayers, dropout=0.5):\n",
        "        super(TransformerModel, self).__init__()\n",
        "        from torch.nn import TransformerEncoder, TransformerEncoderLayer\n",
        "        self.model_type = 'Transformer'\n",
        "        self.pos_encoder = PositionalEncoding(ninp, dropout)\n",
        "        encoder_layers = TransformerEncoderLayer(ninp, nhead, nhid, dropout)\n",
        "        self.transformer_encoder = TransformerEncoder(encoder_layers, nlayers)\n",
        "        self.encoder = nn.Embedding(ntoken, ninp)\n",
        "        self.ninp = ninp\n",
        "        self.decoder = nn.Linear(ninp, ntoken)\n",
        "\n",
        "        self.init_weights()\n",
        "\n",
        "    def generate_square_subsequent_mask(self, sz):\n",
        "        mask = (torch.triu(torch.ones(sz, sz)) == 1).transpose(0, 1)\n",
        "        mask = mask.float().masked_fill(mask == 0, float('-inf')).masked_fill(mask == 1, float(0.0))\n",
        "        return mask\n",
        "\n",
        "    def init_weights(self):\n",
        "        initrange = 0.1\n",
        "        self.encoder.weight.data.uniform_(-initrange, initrange)\n",
        "        self.decoder.bias.data.zero_()\n",
        "        self.decoder.weight.data.uniform_(-initrange, initrange)\n",
        "\n",
        "    def forward(self, src, src_mask):\n",
        "        src = self.encoder(src) * math.sqrt(self.ninp)\n",
        "        src = self.pos_encoder(src)\n",
        "        output = self.transformer_encoder(src, src_mask)\n",
        "        output = self.decoder(output)\n",
        "        return output"
      ],
      "execution_count": null,
      "outputs": []
    },
    {
      "cell_type": "code",
      "metadata": {
        "id": "84zraYdhpZ-e",
        "colab": {
          "base_uri": "https://localhost:8080/"
        },
        "outputId": "1a6dc773-1e79-4ed1-d215-c769e2781cd7"
      },
      "source": [
        "test = TransformerModel( emsize, nhead, nhid, nlayers, dropout)\n",
        "test"
      ],
      "execution_count": null,
      "outputs": [
        {
          "output_type": "execute_result",
          "data": {
            "text/plain": [
              "TransformerModel(\n",
              "  (pos_encoder): PositionalEncoding(\n",
              "    (dropout): Dropout(p=0.2, inplace=False)\n",
              "  )\n",
              "  (transformer_encoder): TransformerEncoder(\n",
              "    (layers): ModuleList(\n",
              "      (0): TransformerEncoderLayer(\n",
              "        (self_attn): MultiheadAttention(\n",
              "          (out_proj): _LinearWithBias(in_features=88, out_features=88, bias=True)\n",
              "        )\n",
              "        (linear1): Linear(in_features=88, out_features=200, bias=True)\n",
              "        (dropout): Dropout(p=0.2, inplace=False)\n",
              "        (linear2): Linear(in_features=200, out_features=88, bias=True)\n",
              "        (norm1): LayerNorm((88,), eps=1e-05, elementwise_affine=True)\n",
              "        (norm2): LayerNorm((88,), eps=1e-05, elementwise_affine=True)\n",
              "        (dropout1): Dropout(p=0.2, inplace=False)\n",
              "        (dropout2): Dropout(p=0.2, inplace=False)\n",
              "      )\n",
              "      (1): TransformerEncoderLayer(\n",
              "        (self_attn): MultiheadAttention(\n",
              "          (out_proj): _LinearWithBias(in_features=88, out_features=88, bias=True)\n",
              "        )\n",
              "        (linear1): Linear(in_features=88, out_features=200, bias=True)\n",
              "        (dropout): Dropout(p=0.2, inplace=False)\n",
              "        (linear2): Linear(in_features=200, out_features=88, bias=True)\n",
              "        (norm1): LayerNorm((88,), eps=1e-05, elementwise_affine=True)\n",
              "        (norm2): LayerNorm((88,), eps=1e-05, elementwise_affine=True)\n",
              "        (dropout1): Dropout(p=0.2, inplace=False)\n",
              "        (dropout2): Dropout(p=0.2, inplace=False)\n",
              "      )\n",
              "    )\n",
              "  )\n",
              ")"
            ]
          },
          "metadata": {
            "tags": []
          },
          "execution_count": 52
        }
      ]
    },
    {
      "cell_type": "code",
      "metadata": {
        "id": "3zPJFsMO_gWf"
      },
      "source": [
        "criterion = nn.CrossEntropyLoss()\n",
        "lr = 5.0 # learning rate\n",
        "optimizer = torch.optim.SGD(model.parameters(), lr=lr)\n",
        "scheduler = torch.optim.lr_scheduler.StepLR(optimizer, 1.0, gamma=0.95)\n",
        "\n",
        "import time\n",
        "def train():\n",
        "    model.train() # Turn on the train mode\n",
        "    total_loss = 0.\n",
        "    start_time = time.time()\n",
        "    ntokens = len(TEXT.vocab.stoi)\n",
        "    src_mask = model.generate_square_subsequent_mask(bptt).to(device)\n",
        "    for batch, i in enumerate(range(0, train_data.size(0) - 1, bptt)):\n",
        "        data, targets = get_batch(train_data, i)\n",
        "        optimizer.zero_grad()\n",
        "        if data.size(0) != bptt:\n",
        "            src_mask = model.generate_square_subsequent_mask(data.size(0)).to(device)\n",
        "        output = model(data, src_mask)\n",
        "        loss = criterion(output.view(-1, ntokens), targets)\n",
        "        loss.backward()\n",
        "        torch.nn.utils.clip_grad_norm_(model.parameters(), 0.5)\n",
        "        optimizer.step()\n",
        "\n",
        "        total_loss += loss.item()\n",
        "        log_interval = 200\n",
        "        if batch % log_interval == 0 and batch > 0:\n",
        "            cur_loss = total_loss / log_interval\n",
        "            elapsed = time.time() - start_time\n",
        "            print('| epoch {:3d} | {:5d}/{:5d} batches | '\n",
        "                  'lr {:02.2f} | ms/batch {:5.2f} | '\n",
        "                  'loss {:5.2f} | ppl {:8.2f}'.format(\n",
        "                    epoch, batch, len(train_data) // bptt, scheduler.get_lr()[0],\n",
        "                    elapsed * 1000 / log_interval,\n",
        "                    cur_loss, math.exp(cur_loss)))\n",
        "            total_loss = 0\n",
        "            start_time = time.time()\n",
        "\n",
        "def evaluate(eval_model, data_source):\n",
        "    eval_model.eval() # Turn on the evaluation mode\n",
        "    total_loss = 0.\n",
        "    ntokens = len(TEXT.vocab.stoi)\n",
        "    src_mask = model.generate_square_subsequent_mask(bptt).to(device)\n",
        "    with torch.no_grad():\n",
        "        for i in range(0, data_source.size(0) - 1, bptt):\n",
        "            data, targets = get_batch(data_source, i)\n",
        "            if data.size(0) != bptt:\n",
        "                src_mask = model.generate_square_subsequent_mask(data.size(0)).to(device)\n",
        "            output = eval_model(data, src_mask)\n",
        "            output_flat = output.view(-1, ntokens)\n",
        "            total_loss += len(data) * criterion(output_flat, targets).item()\n",
        "    return total_loss / (len(data_source) - 1)"
      ],
      "execution_count": null,
      "outputs": []
    },
    {
      "cell_type": "code",
      "metadata": {
        "id": "e6c2_bkM_kQ2",
        "colab": {
          "base_uri": "https://localhost:8080/",
          "height": 1000
        },
        "outputId": "9e616750-4509-4f34-f499-7377051e6f21"
      },
      "source": [
        "best_val_loss = float(\"inf\")\n",
        "epochs = 3 # The number of epochs\n",
        "best_model = None\n",
        "\n",
        "for epoch in range(1, epochs + 1):\n",
        "    epoch_start_time = time.time()\n",
        "    train()\n",
        "    val_loss = evaluate(model, val_data)\n",
        "    print('-' * 89)\n",
        "    print('| end of epoch {:3d} | time: {:5.2f}s | valid loss {:5.2f} | '\n",
        "          'valid ppl {:8.2f}'.format(epoch, (time.time() - epoch_start_time),\n",
        "                                     val_loss, math.exp(val_loss)))\n",
        "    print('-' * 89)\n",
        "\n",
        "    if val_loss < best_val_loss:\n",
        "        best_val_loss = val_loss\n",
        "        best_model = model\n",
        "\n",
        "    scheduler.step()"
      ],
      "execution_count": null,
      "outputs": [
        {
          "output_type": "stream",
          "text": [
            "src torch.Size([35, 20])\n",
            "src torch.Size([35, 20, 200])\n",
            "src torch.Size([35, 20, 200])\n",
            "src torch.Size([35, 20])\n",
            "src torch.Size([35, 20, 200])\n",
            "src torch.Size([35, 20, 200])\n",
            "src torch.Size([35, 20])\n",
            "src torch.Size([35, 20, 200])\n",
            "src torch.Size([35, 20, 200])\n",
            "src torch.Size([35, 20])\n",
            "src torch.Size([35, 20, 200])\n",
            "src torch.Size([35, 20, 200])\n",
            "src torch.Size([35, 20])\n",
            "src torch.Size([35, 20, 200])\n",
            "src torch.Size([35, 20, 200])\n",
            "src torch.Size([35, 20])\n",
            "src torch.Size([35, 20, 200])\n",
            "src torch.Size([35, 20, 200])\n",
            "src torch.Size([35, 20])\n",
            "src torch.Size([35, 20, 200])\n",
            "src torch.Size([35, 20, 200])\n",
            "src torch.Size([35, 20])\n",
            "src torch.Size([35, 20, 200])\n",
            "src torch.Size([35, 20, 200])\n",
            "src torch.Size([35, 20])\n",
            "src torch.Size([35, 20, 200])\n",
            "src torch.Size([35, 20, 200])\n",
            "src torch.Size([35, 20])\n",
            "src torch.Size([35, 20, 200])\n",
            "src torch.Size([35, 20, 200])\n",
            "src torch.Size([35, 20])\n",
            "src torch.Size([35, 20, 200])\n",
            "src torch.Size([35, 20, 200])\n",
            "src torch.Size([35, 20])\n",
            "src torch.Size([35, 20, 200])\n",
            "src torch.Size([35, 20, 200])\n",
            "src torch.Size([35, 20])\n",
            "src torch.Size([35, 20, 200])\n",
            "src torch.Size([35, 20, 200])\n",
            "src torch.Size([35, 20])\n",
            "src torch.Size([35, 20, 200])\n",
            "src torch.Size([35, 20, 200])\n",
            "src torch.Size([35, 20])\n",
            "src torch.Size([35, 20, 200])\n",
            "src torch.Size([35, 20, 200])\n",
            "src torch.Size([35, 20])\n",
            "src torch.Size([35, 20, 200])\n",
            "src torch.Size([35, 20, 200])\n",
            "src torch.Size([35, 20])\n",
            "src torch.Size([35, 20, 200])\n",
            "src torch.Size([35, 20, 200])\n",
            "src torch.Size([35, 20])\n",
            "src torch.Size([35, 20, 200])\n",
            "src torch.Size([35, 20, 200])\n",
            "src torch.Size([35, 20])\n",
            "src torch.Size([35, 20, 200])\n",
            "src torch.Size([35, 20, 200])\n",
            "src torch.Size([35, 20])\n",
            "src torch.Size([35, 20, 200])\n",
            "src torch.Size([35, 20, 200])\n",
            "src torch.Size([35, 20])\n",
            "src torch.Size([35, 20, 200])\n",
            "src torch.Size([35, 20, 200])\n",
            "src torch.Size([35, 20])\n",
            "src torch.Size([35, 20, 200])\n",
            "src torch.Size([35, 20, 200])\n",
            "src torch.Size([35, 20])\n",
            "src torch.Size([35, 20, 200])\n",
            "src torch.Size([35, 20, 200])\n",
            "src torch.Size([35, 20])\n",
            "src torch.Size([35, 20, 200])\n",
            "src torch.Size([35, 20, 200])\n",
            "src torch.Size([35, 20])\n",
            "src torch.Size([35, 20, 200])\n",
            "src torch.Size([35, 20, 200])\n",
            "src torch.Size([35, 20])\n",
            "src torch.Size([35, 20, 200])\n",
            "src torch.Size([35, 20, 200])\n",
            "src torch.Size([35, 20])\n",
            "src torch.Size([35, 20, 200])\n",
            "src torch.Size([35, 20, 200])\n",
            "src torch.Size([35, 20])\n",
            "src torch.Size([35, 20, 200])\n",
            "src torch.Size([35, 20, 200])\n",
            "src torch.Size([35, 20])\n",
            "src torch.Size([35, 20, 200])\n",
            "src torch.Size([35, 20, 200])\n",
            "src torch.Size([35, 20])\n",
            "src torch.Size([35, 20, 200])\n",
            "src torch.Size([35, 20, 200])\n",
            "src torch.Size([35, 20])\n",
            "src torch.Size([35, 20, 200])\n",
            "src torch.Size([35, 20, 200])\n",
            "src torch.Size([35, 20])\n",
            "src torch.Size([35, 20, 200])\n",
            "src torch.Size([35, 20, 200])\n",
            "src torch.Size([35, 20])\n",
            "src torch.Size([35, 20, 200])\n",
            "src torch.Size([35, 20, 200])\n",
            "src torch.Size([35, 20])\n",
            "src torch.Size([35, 20, 200])\n",
            "src torch.Size([35, 20, 200])\n",
            "src torch.Size([35, 20])\n",
            "src torch.Size([35, 20, 200])\n",
            "src torch.Size([35, 20, 200])\n",
            "src torch.Size([35, 20])\n",
            "src torch.Size([35, 20, 200])\n",
            "src torch.Size([35, 20, 200])\n",
            "src torch.Size([35, 20])\n",
            "src torch.Size([35, 20, 200])\n",
            "src torch.Size([35, 20, 200])\n",
            "src torch.Size([35, 20])\n",
            "src torch.Size([35, 20, 200])\n",
            "src torch.Size([35, 20, 200])\n",
            "src torch.Size([35, 20])\n",
            "src torch.Size([35, 20, 200])\n",
            "src torch.Size([35, 20, 200])\n",
            "src torch.Size([35, 20])\n",
            "src torch.Size([35, 20, 200])\n",
            "src torch.Size([35, 20, 200])\n",
            "src torch.Size([35, 20])\n",
            "src torch.Size([35, 20, 200])\n",
            "src torch.Size([35, 20, 200])\n",
            "src torch.Size([35, 20])\n",
            "src torch.Size([35, 20, 200])\n",
            "src torch.Size([35, 20, 200])\n",
            "src torch.Size([35, 20])\n",
            "src torch.Size([35, 20, 200])\n",
            "src torch.Size([35, 20, 200])\n",
            "src torch.Size([35, 20])\n",
            "src torch.Size([35, 20, 200])\n",
            "src torch.Size([35, 20, 200])\n",
            "src torch.Size([35, 20])\n",
            "src torch.Size([35, 20, 200])\n",
            "src torch.Size([35, 20, 200])\n",
            "src torch.Size([35, 20])\n",
            "src torch.Size([35, 20, 200])\n",
            "src torch.Size([35, 20, 200])\n",
            "src torch.Size([35, 20])\n",
            "src torch.Size([35, 20, 200])\n",
            "src torch.Size([35, 20, 200])\n",
            "src torch.Size([35, 20])\n",
            "src torch.Size([35, 20, 200])\n",
            "src torch.Size([35, 20, 200])\n",
            "src torch.Size([35, 20])\n",
            "src torch.Size([35, 20, 200])\n",
            "src torch.Size([35, 20, 200])\n",
            "src torch.Size([35, 20])\n",
            "src torch.Size([35, 20, 200])\n",
            "src torch.Size([35, 20, 200])\n",
            "src torch.Size([35, 20])\n",
            "src torch.Size([35, 20, 200])\n",
            "src torch.Size([35, 20, 200])\n",
            "src torch.Size([35, 20])\n",
            "src torch.Size([35, 20, 200])\n",
            "src torch.Size([35, 20, 200])\n",
            "src torch.Size([35, 20])\n",
            "src torch.Size([35, 20, 200])\n",
            "src torch.Size([35, 20, 200])\n",
            "src torch.Size([35, 20])\n",
            "src torch.Size([35, 20, 200])\n",
            "src torch.Size([35, 20, 200])\n",
            "src torch.Size([35, 20])\n",
            "src torch.Size([35, 20, 200])\n",
            "src torch.Size([35, 20, 200])\n",
            "src torch.Size([35, 20])\n",
            "src torch.Size([35, 20, 200])\n",
            "src torch.Size([35, 20, 200])\n",
            "src torch.Size([35, 20])\n",
            "src torch.Size([35, 20, 200])\n",
            "src torch.Size([35, 20, 200])\n",
            "src torch.Size([35, 20])\n",
            "src torch.Size([35, 20, 200])\n",
            "src torch.Size([35, 20, 200])\n",
            "src torch.Size([35, 20])\n",
            "src torch.Size([35, 20, 200])\n",
            "src torch.Size([35, 20, 200])\n",
            "src torch.Size([35, 20])\n",
            "src torch.Size([35, 20, 200])\n",
            "src torch.Size([35, 20, 200])\n",
            "src torch.Size([35, 20])\n",
            "src torch.Size([35, 20, 200])\n",
            "src torch.Size([35, 20, 200])\n",
            "src torch.Size([35, 20])\n",
            "src torch.Size([35, 20, 200])\n",
            "src torch.Size([35, 20, 200])\n",
            "src torch.Size([35, 20])\n",
            "src torch.Size([35, 20, 200])\n",
            "src torch.Size([35, 20, 200])\n",
            "src torch.Size([35, 20])\n",
            "src torch.Size([35, 20, 200])\n",
            "src torch.Size([35, 20, 200])\n",
            "src torch.Size([35, 20])\n",
            "src torch.Size([35, 20, 200])\n",
            "src torch.Size([35, 20, 200])\n",
            "src torch.Size([35, 20])\n",
            "src torch.Size([35, 20, 200])\n",
            "src torch.Size([35, 20, 200])\n",
            "src torch.Size([35, 20])\n",
            "src torch.Size([35, 20, 200])\n",
            "src torch.Size([35, 20, 200])\n",
            "src torch.Size([35, 20])\n",
            "src torch.Size([35, 20, 200])\n",
            "src torch.Size([35, 20, 200])\n",
            "src torch.Size([35, 20])\n",
            "src torch.Size([35, 20, 200])\n",
            "src torch.Size([35, 20, 200])\n",
            "src torch.Size([35, 20])\n",
            "src torch.Size([35, 20, 200])\n",
            "src torch.Size([35, 20, 200])\n",
            "src torch.Size([35, 20])\n",
            "src torch.Size([35, 20, 200])\n",
            "src torch.Size([35, 20, 200])\n",
            "src torch.Size([35, 20])\n",
            "src torch.Size([35, 20, 200])\n",
            "src torch.Size([35, 20, 200])\n",
            "src torch.Size([35, 20])\n",
            "src torch.Size([35, 20, 200])\n",
            "src torch.Size([35, 20, 200])\n",
            "src torch.Size([35, 20])\n",
            "src torch.Size([35, 20, 200])\n",
            "src torch.Size([35, 20, 200])\n",
            "src torch.Size([35, 20])\n",
            "src torch.Size([35, 20, 200])\n",
            "src torch.Size([35, 20, 200])\n",
            "src torch.Size([35, 20])\n",
            "src torch.Size([35, 20, 200])\n",
            "src torch.Size([35, 20, 200])\n",
            "src torch.Size([35, 20])\n",
            "src torch.Size([35, 20, 200])\n",
            "src torch.Size([35, 20, 200])\n",
            "src torch.Size([35, 20])\n",
            "src torch.Size([35, 20, 200])\n",
            "src torch.Size([35, 20, 200])\n",
            "src torch.Size([35, 20])\n",
            "src torch.Size([35, 20, 200])\n",
            "src torch.Size([35, 20, 200])\n",
            "src torch.Size([35, 20])\n",
            "src torch.Size([35, 20, 200])\n",
            "src torch.Size([35, 20, 200])\n",
            "src torch.Size([35, 20])\n",
            "src torch.Size([35, 20, 200])\n",
            "src torch.Size([35, 20, 200])\n",
            "src torch.Size([35, 20])\n",
            "src torch.Size([35, 20, 200])\n",
            "src torch.Size([35, 20, 200])\n",
            "src torch.Size([35, 20])\n",
            "src torch.Size([35, 20, 200])\n",
            "src torch.Size([35, 20, 200])\n",
            "src torch.Size([35, 20])\n",
            "src torch.Size([35, 20, 200])\n",
            "src torch.Size([35, 20, 200])\n",
            "src torch.Size([35, 20])\n",
            "src torch.Size([35, 20, 200])\n",
            "src torch.Size([35, 20, 200])\n",
            "src torch.Size([35, 20])\n",
            "src torch.Size([35, 20, 200])\n",
            "src torch.Size([35, 20, 200])\n",
            "src torch.Size([35, 20])\n",
            "src torch.Size([35, 20, 200])\n",
            "src torch.Size([35, 20, 200])\n",
            "src torch.Size([35, 20])\n",
            "src torch.Size([35, 20, 200])\n",
            "src torch.Size([35, 20, 200])\n",
            "src torch.Size([35, 20])\n",
            "src torch.Size([35, 20, 200])\n",
            "src torch.Size([35, 20, 200])\n",
            "src torch.Size([35, 20])\n",
            "src torch.Size([35, 20, 200])\n",
            "src torch.Size([35, 20, 200])\n",
            "src torch.Size([35, 20])\n",
            "src torch.Size([35, 20, 200])\n",
            "src torch.Size([35, 20, 200])\n",
            "src torch.Size([35, 20])\n",
            "src torch.Size([35, 20, 200])\n",
            "src torch.Size([35, 20, 200])\n",
            "src torch.Size([35, 20])\n",
            "src torch.Size([35, 20, 200])\n",
            "src torch.Size([35, 20, 200])\n",
            "src torch.Size([35, 20])\n",
            "src torch.Size([35, 20, 200])\n",
            "src torch.Size([35, 20, 200])\n",
            "src torch.Size([35, 20])\n",
            "src torch.Size([35, 20, 200])\n",
            "src torch.Size([35, 20, 200])\n",
            "src torch.Size([35, 20])\n",
            "src torch.Size([35, 20, 200])\n",
            "src torch.Size([35, 20, 200])\n",
            "src torch.Size([35, 20])\n",
            "src torch.Size([35, 20, 200])\n",
            "src torch.Size([35, 20, 200])\n",
            "src torch.Size([35, 20])\n",
            "src torch.Size([35, 20, 200])\n",
            "src torch.Size([35, 20, 200])\n",
            "src torch.Size([35, 20])\n",
            "src torch.Size([35, 20, 200])\n",
            "src torch.Size([35, 20, 200])\n",
            "src torch.Size([35, 20])\n",
            "src torch.Size([35, 20, 200])\n",
            "src torch.Size([35, 20, 200])\n",
            "src torch.Size([35, 20])\n",
            "src torch.Size([35, 20, 200])\n",
            "src torch.Size([35, 20, 200])\n",
            "src torch.Size([35, 20])\n",
            "src torch.Size([35, 20, 200])\n",
            "src torch.Size([35, 20, 200])\n",
            "src torch.Size([35, 20])\n",
            "src torch.Size([35, 20, 200])\n",
            "src torch.Size([35, 20, 200])\n",
            "src torch.Size([35, 20])\n",
            "src torch.Size([35, 20, 200])\n",
            "src torch.Size([35, 20, 200])\n",
            "src torch.Size([35, 20])\n",
            "src torch.Size([35, 20, 200])\n",
            "src torch.Size([35, 20, 200])\n",
            "src torch.Size([35, 20])\n",
            "src torch.Size([35, 20, 200])\n",
            "src torch.Size([35, 20, 200])\n",
            "src torch.Size([35, 20])\n",
            "src torch.Size([35, 20, 200])\n",
            "src torch.Size([35, 20, 200])\n",
            "src torch.Size([35, 20])\n",
            "src torch.Size([35, 20, 200])\n",
            "src torch.Size([35, 20, 200])\n",
            "src torch.Size([35, 20])\n",
            "src torch.Size([35, 20, 200])\n",
            "src torch.Size([35, 20, 200])\n",
            "src torch.Size([35, 20])\n",
            "src torch.Size([35, 20, 200])\n",
            "src torch.Size([35, 20, 200])\n",
            "src torch.Size([35, 20])\n",
            "src torch.Size([35, 20, 200])\n",
            "src torch.Size([35, 20, 200])\n",
            "src torch.Size([35, 20])\n",
            "src torch.Size([35, 20, 200])\n",
            "src torch.Size([35, 20, 200])\n",
            "src torch.Size([35, 20])\n",
            "src torch.Size([35, 20, 200])\n",
            "src torch.Size([35, 20, 200])\n",
            "src torch.Size([35, 20])\n",
            "src torch.Size([35, 20, 200])\n",
            "src torch.Size([35, 20, 200])\n",
            "src torch.Size([35, 20])\n",
            "src torch.Size([35, 20, 200])\n",
            "src torch.Size([35, 20, 200])\n",
            "src torch.Size([35, 20])\n",
            "src torch.Size([35, 20, 200])\n",
            "src torch.Size([35, 20, 200])\n",
            "src torch.Size([35, 20])\n",
            "src torch.Size([35, 20, 200])\n",
            "src torch.Size([35, 20, 200])\n",
            "src torch.Size([35, 20])\n",
            "src torch.Size([35, 20, 200])\n",
            "src torch.Size([35, 20, 200])\n",
            "src torch.Size([35, 20])\n",
            "src torch.Size([35, 20, 200])\n",
            "src torch.Size([35, 20, 200])\n",
            "src torch.Size([35, 20])\n",
            "src torch.Size([35, 20, 200])\n",
            "src torch.Size([35, 20, 200])\n",
            "src torch.Size([35, 20])\n",
            "src torch.Size([35, 20, 200])\n",
            "src torch.Size([35, 20, 200])\n",
            "src torch.Size([35, 20])\n",
            "src torch.Size([35, 20, 200])\n",
            "src torch.Size([35, 20, 200])\n",
            "src torch.Size([35, 20])\n",
            "src torch.Size([35, 20, 200])\n",
            "src torch.Size([35, 20, 200])\n",
            "src torch.Size([35, 20])\n",
            "src torch.Size([35, 20, 200])\n",
            "src torch.Size([35, 20, 200])\n",
            "src torch.Size([35, 20])\n",
            "src torch.Size([35, 20, 200])\n",
            "src torch.Size([35, 20, 200])\n",
            "src torch.Size([35, 20])\n",
            "src torch.Size([35, 20, 200])\n",
            "src torch.Size([35, 20, 200])\n",
            "src torch.Size([35, 20])\n",
            "src torch.Size([35, 20, 200])\n",
            "src torch.Size([35, 20, 200])\n",
            "src torch.Size([35, 20])\n",
            "src torch.Size([35, 20, 200])\n",
            "src torch.Size([35, 20, 200])\n",
            "src torch.Size([35, 20])\n",
            "src torch.Size([35, 20, 200])\n",
            "src torch.Size([35, 20, 200])\n",
            "src torch.Size([35, 20])\n",
            "src torch.Size([35, 20, 200])\n",
            "src torch.Size([35, 20, 200])\n",
            "src torch.Size([35, 20])\n",
            "src torch.Size([35, 20, 200])\n",
            "src torch.Size([35, 20, 200])\n",
            "src torch.Size([35, 20])\n",
            "src torch.Size([35, 20, 200])\n",
            "src torch.Size([35, 20, 200])\n",
            "src torch.Size([35, 20])\n",
            "src torch.Size([35, 20, 200])\n",
            "src torch.Size([35, 20, 200])\n",
            "src torch.Size([35, 20])\n",
            "src torch.Size([35, 20, 200])\n",
            "src torch.Size([35, 20, 200])\n",
            "src torch.Size([35, 20])\n",
            "src torch.Size([35, 20, 200])\n",
            "src torch.Size([35, 20, 200])\n",
            "src torch.Size([35, 20])\n",
            "src torch.Size([35, 20, 200])\n",
            "src torch.Size([35, 20, 200])\n",
            "src torch.Size([35, 20])\n",
            "src torch.Size([35, 20, 200])\n",
            "src torch.Size([35, 20, 200])\n",
            "src torch.Size([35, 20])\n",
            "src torch.Size([35, 20, 200])\n",
            "src torch.Size([35, 20, 200])\n",
            "src torch.Size([35, 20])\n",
            "src torch.Size([35, 20, 200])\n",
            "src torch.Size([35, 20, 200])\n",
            "src torch.Size([35, 20])\n",
            "src torch.Size([35, 20, 200])\n",
            "src torch.Size([35, 20, 200])\n",
            "src torch.Size([35, 20])\n",
            "src torch.Size([35, 20, 200])\n",
            "src torch.Size([35, 20, 200])\n"
          ],
          "name": "stdout"
        },
        {
          "output_type": "error",
          "ename": "KeyboardInterrupt",
          "evalue": "ignored",
          "traceback": [
            "\u001b[0;31m---------------------------------------------------------------------------\u001b[0m",
            "\u001b[0;31mKeyboardInterrupt\u001b[0m                         Traceback (most recent call last)",
            "\u001b[0;32m<ipython-input-24-69255d737ca4>\u001b[0m in \u001b[0;36m<module>\u001b[0;34m()\u001b[0m\n\u001b[1;32m      5\u001b[0m \u001b[0;32mfor\u001b[0m \u001b[0mepoch\u001b[0m \u001b[0;32min\u001b[0m \u001b[0mrange\u001b[0m\u001b[0;34m(\u001b[0m\u001b[0;36m1\u001b[0m\u001b[0;34m,\u001b[0m \u001b[0mepochs\u001b[0m \u001b[0;34m+\u001b[0m \u001b[0;36m1\u001b[0m\u001b[0;34m)\u001b[0m\u001b[0;34m:\u001b[0m\u001b[0;34m\u001b[0m\u001b[0;34m\u001b[0m\u001b[0m\n\u001b[1;32m      6\u001b[0m     \u001b[0mepoch_start_time\u001b[0m \u001b[0;34m=\u001b[0m \u001b[0mtime\u001b[0m\u001b[0;34m.\u001b[0m\u001b[0mtime\u001b[0m\u001b[0;34m(\u001b[0m\u001b[0;34m)\u001b[0m\u001b[0;34m\u001b[0m\u001b[0;34m\u001b[0m\u001b[0m\n\u001b[0;32m----> 7\u001b[0;31m     \u001b[0mtrain\u001b[0m\u001b[0;34m(\u001b[0m\u001b[0;34m)\u001b[0m\u001b[0;34m\u001b[0m\u001b[0;34m\u001b[0m\u001b[0m\n\u001b[0m\u001b[1;32m      8\u001b[0m     \u001b[0mval_loss\u001b[0m \u001b[0;34m=\u001b[0m \u001b[0mevaluate\u001b[0m\u001b[0;34m(\u001b[0m\u001b[0mmodel\u001b[0m\u001b[0;34m,\u001b[0m \u001b[0mval_data\u001b[0m\u001b[0;34m)\u001b[0m\u001b[0;34m\u001b[0m\u001b[0;34m\u001b[0m\u001b[0m\n\u001b[1;32m      9\u001b[0m     \u001b[0mprint\u001b[0m\u001b[0;34m(\u001b[0m\u001b[0;34m'-'\u001b[0m \u001b[0;34m*\u001b[0m \u001b[0;36m89\u001b[0m\u001b[0;34m)\u001b[0m\u001b[0;34m\u001b[0m\u001b[0;34m\u001b[0m\u001b[0m\n",
            "\u001b[0;32m<ipython-input-23-986089ee6fe8>\u001b[0m in \u001b[0;36mtrain\u001b[0;34m()\u001b[0m\n\u001b[1;32m     18\u001b[0m         \u001b[0moutput\u001b[0m \u001b[0;34m=\u001b[0m \u001b[0mmodel\u001b[0m\u001b[0;34m(\u001b[0m\u001b[0mdata\u001b[0m\u001b[0;34m,\u001b[0m \u001b[0msrc_mask\u001b[0m\u001b[0;34m)\u001b[0m\u001b[0;34m\u001b[0m\u001b[0;34m\u001b[0m\u001b[0m\n\u001b[1;32m     19\u001b[0m         \u001b[0mloss\u001b[0m \u001b[0;34m=\u001b[0m \u001b[0mcriterion\u001b[0m\u001b[0;34m(\u001b[0m\u001b[0moutput\u001b[0m\u001b[0;34m.\u001b[0m\u001b[0mview\u001b[0m\u001b[0;34m(\u001b[0m\u001b[0;34m-\u001b[0m\u001b[0;36m1\u001b[0m\u001b[0;34m,\u001b[0m \u001b[0mntokens\u001b[0m\u001b[0;34m)\u001b[0m\u001b[0;34m,\u001b[0m \u001b[0mtargets\u001b[0m\u001b[0;34m)\u001b[0m\u001b[0;34m\u001b[0m\u001b[0;34m\u001b[0m\u001b[0m\n\u001b[0;32m---> 20\u001b[0;31m         \u001b[0mloss\u001b[0m\u001b[0;34m.\u001b[0m\u001b[0mbackward\u001b[0m\u001b[0;34m(\u001b[0m\u001b[0;34m)\u001b[0m\u001b[0;34m\u001b[0m\u001b[0;34m\u001b[0m\u001b[0m\n\u001b[0m\u001b[1;32m     21\u001b[0m         \u001b[0mtorch\u001b[0m\u001b[0;34m.\u001b[0m\u001b[0mnn\u001b[0m\u001b[0;34m.\u001b[0m\u001b[0mutils\u001b[0m\u001b[0;34m.\u001b[0m\u001b[0mclip_grad_norm_\u001b[0m\u001b[0;34m(\u001b[0m\u001b[0mmodel\u001b[0m\u001b[0;34m.\u001b[0m\u001b[0mparameters\u001b[0m\u001b[0;34m(\u001b[0m\u001b[0;34m)\u001b[0m\u001b[0;34m,\u001b[0m \u001b[0;36m0.5\u001b[0m\u001b[0;34m)\u001b[0m\u001b[0;34m\u001b[0m\u001b[0;34m\u001b[0m\u001b[0m\n\u001b[1;32m     22\u001b[0m         \u001b[0moptimizer\u001b[0m\u001b[0;34m.\u001b[0m\u001b[0mstep\u001b[0m\u001b[0;34m(\u001b[0m\u001b[0;34m)\u001b[0m\u001b[0;34m\u001b[0m\u001b[0;34m\u001b[0m\u001b[0m\n",
            "\u001b[0;32m/usr/local/lib/python3.6/dist-packages/torch/tensor.py\u001b[0m in \u001b[0;36mbackward\u001b[0;34m(self, gradient, retain_graph, create_graph)\u001b[0m\n\u001b[1;32m    219\u001b[0m                 \u001b[0mretain_graph\u001b[0m\u001b[0;34m=\u001b[0m\u001b[0mretain_graph\u001b[0m\u001b[0;34m,\u001b[0m\u001b[0;34m\u001b[0m\u001b[0;34m\u001b[0m\u001b[0m\n\u001b[1;32m    220\u001b[0m                 create_graph=create_graph)\n\u001b[0;32m--> 221\u001b[0;31m         \u001b[0mtorch\u001b[0m\u001b[0;34m.\u001b[0m\u001b[0mautograd\u001b[0m\u001b[0;34m.\u001b[0m\u001b[0mbackward\u001b[0m\u001b[0;34m(\u001b[0m\u001b[0mself\u001b[0m\u001b[0;34m,\u001b[0m \u001b[0mgradient\u001b[0m\u001b[0;34m,\u001b[0m \u001b[0mretain_graph\u001b[0m\u001b[0;34m,\u001b[0m \u001b[0mcreate_graph\u001b[0m\u001b[0;34m)\u001b[0m\u001b[0;34m\u001b[0m\u001b[0;34m\u001b[0m\u001b[0m\n\u001b[0m\u001b[1;32m    222\u001b[0m \u001b[0;34m\u001b[0m\u001b[0m\n\u001b[1;32m    223\u001b[0m     \u001b[0;32mdef\u001b[0m \u001b[0mregister_hook\u001b[0m\u001b[0;34m(\u001b[0m\u001b[0mself\u001b[0m\u001b[0;34m,\u001b[0m \u001b[0mhook\u001b[0m\u001b[0;34m)\u001b[0m\u001b[0;34m:\u001b[0m\u001b[0;34m\u001b[0m\u001b[0;34m\u001b[0m\u001b[0m\n",
            "\u001b[0;32m/usr/local/lib/python3.6/dist-packages/torch/autograd/__init__.py\u001b[0m in \u001b[0;36mbackward\u001b[0;34m(tensors, grad_tensors, retain_graph, create_graph, grad_variables)\u001b[0m\n\u001b[1;32m    130\u001b[0m     Variable._execution_engine.run_backward(\n\u001b[1;32m    131\u001b[0m         \u001b[0mtensors\u001b[0m\u001b[0;34m,\u001b[0m \u001b[0mgrad_tensors_\u001b[0m\u001b[0;34m,\u001b[0m \u001b[0mretain_graph\u001b[0m\u001b[0;34m,\u001b[0m \u001b[0mcreate_graph\u001b[0m\u001b[0;34m,\u001b[0m\u001b[0;34m\u001b[0m\u001b[0;34m\u001b[0m\u001b[0m\n\u001b[0;32m--> 132\u001b[0;31m         allow_unreachable=True)  # allow_unreachable flag\n\u001b[0m\u001b[1;32m    133\u001b[0m \u001b[0;34m\u001b[0m\u001b[0m\n\u001b[1;32m    134\u001b[0m \u001b[0;34m\u001b[0m\u001b[0m\n",
            "\u001b[0;31mKeyboardInterrupt\u001b[0m: "
          ]
        }
      ]
    },
    {
      "cell_type": "code",
      "metadata": {
        "id": "Ee7u9hAnDtvr",
        "colab": {
          "base_uri": "https://localhost:8080/"
        },
        "outputId": "f701c7ce-0d70-4008-96ad-0a60421f0dc6"
      },
      "source": [
        "data, targets = get_batch(train_data, 0)\n",
        "src_mask = model.generate_square_subsequent_mask(data.size(0)).to(device)\n",
        "output = model(data, src_mask)\n",
        "out, out_idx = torch.max(output, 2)\n",
        "#\n",
        "for (pred, tar) in zip(out_idx[0].cpu().numpy().tolist(), data[0].cpu().numpy().tolist()):\n",
        "    print('{}       {}'.format(TEXT.vocab.itos[pred], TEXT.vocab.itos[tar]))"
      ],
      "execution_count": null,
      "outputs": [
        {
          "output_type": "stream",
          "text": [
            "<eos>        \n",
            "it       so\n",
            "asteroid       an\n",
            "the       .\n",
            "unk       <\n",
            "successful       increasingly\n",
            "was       tech\n",
            "the       and\n",
            "the       .\n",
            "of       form\n",
            ",       gentil\n",
            ",       greene\n",
            ",       book\n",
            "yard       @-@\n",
            ",       star\n",
            "and       ,\n",
            "jackson       walter\n",
            "it       that\n",
            "second       the\n",
            "it       that\n"
          ],
          "name": "stdout"
        }
      ]
    },
    {
      "cell_type": "markdown",
      "metadata": {
        "id": "OLcK94Faz198"
      },
      "source": [
        "# rough"
      ]
    },
    {
      "cell_type": "code",
      "metadata": {
        "id": "bhVbTPfdo1L7",
        "colab": {
          "base_uri": "https://localhost:8080/"
        },
        "outputId": "83634aa8-017f-42d1-b7f9-13ed6f203708"
      },
      "source": [
        "x = torch.randn(2,2,2)\n",
        "print(x)\n",
        "y = 1 - x\n",
        "print(y)"
      ],
      "execution_count": null,
      "outputs": [
        {
          "output_type": "stream",
          "text": [
            "tensor([[[-0.3318, -0.0384],\n",
            "         [ 0.6170,  0.4005]],\n",
            "\n",
            "        [[ 0.7947, -0.3588],\n",
            "         [ 0.7678, -0.0138]]])\n",
            "tensor([[[1.3318, 1.0384],\n",
            "         [0.3830, 0.5995]],\n",
            "\n",
            "        [[0.2053, 1.3588],\n",
            "         [0.2322, 1.0138]]])\n"
          ],
          "name": "stdout"
        }
      ]
    },
    {
      "cell_type": "code",
      "metadata": {
        "id": "lr7VNlArz34b",
        "colab": {
          "base_uri": "https://localhost:8080/"
        },
        "outputId": "bc13a3cf-7cf9-4540-e35e-9857de86314a"
      },
      "source": [
        "import torch\n",
        "import torch.nn as nn\n",
        "m = nn.Linear(50, 30)\n",
        "input = torch.randn(128, 30,50)\n",
        "output = m(input)\n",
        "print(output.size())"
      ],
      "execution_count": null,
      "outputs": [
        {
          "output_type": "stream",
          "text": [
            "torch.Size([128, 30, 30])\n"
          ],
          "name": "stdout"
        }
      ]
    }
  ]
}