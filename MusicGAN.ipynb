{
  "nbformat": 4,
  "nbformat_minor": 0,
  "metadata": {
    "colab": {
      "name": "MusicGAN.ipynb",
      "provenance": [],
      "authorship_tag": "ABX9TyMYFrcuuBlnYnrXlNBMX0ie",
      "include_colab_link": true
    },
    "kernelspec": {
      "name": "python3",
      "display_name": "Python 3"
    }
  },
  "cells": [
    {
      "cell_type": "markdown",
      "metadata": {
        "id": "view-in-github",
        "colab_type": "text"
      },
      "source": [
        "<a href=\"https://colab.research.google.com/github/DRIP-AI-RESEARCH-JUNIOR/MUSIC_GENEARATION/blob/master/MusicGAN.ipynb\" target=\"_parent\"><img src=\"https://colab.research.google.com/assets/colab-badge.svg\" alt=\"Open In Colab\"/></a>"
      ]
    },
    {
      "cell_type": "code",
      "metadata": {
        "id": "davTem7PZuOm"
      },
      "source": [
        "import torch\n",
        "import torch.nn as nn\n",
        "import torch.nn.functional as F"
      ],
      "execution_count": 7,
      "outputs": []
    },
    {
      "cell_type": "code",
      "metadata": {
        "id": "f6XMbENLZ_Q3"
      },
      "source": [
        "class Generator(nn.Module):\n",
        "    def __init__(self,num_features,p=0.1):\n",
        "        super(Generator, self).__init__()\n",
        "        self.fc_encoder = nn.Linear(2*num_features,num_features)\n",
        "        self.lstmCell_encoder = nn.LSTMCell(input_size=num_features, hidden_size=num_features)\n",
        "        self.dropout = nn.Dropout(p=p)\n",
        "        self.fc_decoder = nn.Linear(num_features,num_features)\n",
        "        self.lstmCell_decoder = nn.LSTMCell(input_size=num_features, hidden_size=num_features)\n",
        "\n",
        "    def weight_init(self):\n",
        "        torch.nn.init.zeros_(tensor)\n",
        "\n",
        "    def forward(self,x,he,ce,hd,cd):\n",
        "        output = []\n",
        "        seq_len = x.size()[1]\n",
        "        batch = x.size()[0]\n",
        "        num_features = x.size()[2]\n",
        "        input = x.permute(1,0,2)\n",
        "        start = nn.init.uniform_(torch.empty(batch,num_features))\n",
        "        for x_step in input:\n",
        "            input_concat = torch.cat((x_step,start),dim=-1)\n",
        "            linear_out_encoder = F.relu(self.fc_encoder(input_concat))\n",
        "            he,ce = self.lstmCell_encoder(linear_out_encoder,(he,ce))\n",
        "            he = self.dropout(he)\n",
        "            hd,cd = self.lstmCell_decoder(he,(hd,cd))\n",
        "            start = F.sigmoid(self.fc_decoder(hd))\n",
        "            output.append(start)\n",
        "        output = torch.stack(output)\n",
        "        output = output.permute(1,0,2)\n",
        "        return output\n"
      ],
      "execution_count": 32,
      "outputs": []
    },
    {
      "cell_type": "code",
      "metadata": {
        "id": "4_cUqtYhhPa1"
      },
      "source": [
        "x = torch.randn(2,3,88)\n",
        "he = torch.randn(2,88)\n",
        "ce = torch.randn(2,88)\n",
        "hd = torch.randn(2,88)\n",
        "cd = torch.randn(2,88)"
      ],
      "execution_count": 18,
      "outputs": []
    },
    {
      "cell_type": "code",
      "metadata": {
        "colab": {
          "base_uri": "https://localhost:8080/"
        },
        "id": "Pc2zKjh_hobb",
        "outputId": "0a7691aa-c880-48c9-d862-995c3adf146f"
      },
      "source": [
        "model = Generator(88)\n",
        "out = model(x,he,ce,hd,cd)"
      ],
      "execution_count": 33,
      "outputs": [
        {
          "output_type": "stream",
          "text": [
            "/usr/local/lib/python3.6/dist-packages/torch/nn/functional.py:1639: UserWarning: nn.functional.sigmoid is deprecated. Use torch.sigmoid instead.\n",
            "  warnings.warn(\"nn.functional.sigmoid is deprecated. Use torch.sigmoid instead.\")\n"
          ],
          "name": "stderr"
        }
      ]
    },
    {
      "cell_type": "code",
      "metadata": {
        "colab": {
          "base_uri": "https://localhost:8080/"
        },
        "id": "8a4DJko9ik_U",
        "outputId": "dae44406-d532-49e2-f87f-cc4e2cf84ebe"
      },
      "source": [
        "print(out.shape)"
      ],
      "execution_count": 34,
      "outputs": [
        {
          "output_type": "stream",
          "text": [
            "torch.Size([2, 3, 88])\n"
          ],
          "name": "stdout"
        }
      ]
    },
    {
      "cell_type": "code",
      "metadata": {
        "id": "pS5IfxmBt0ea"
      },
      "source": [
        "class Discriminator(nn.Module):\n",
        "    def __init__(self,num_feature,p=0.1):\n",
        "        super(Discriminator,self).__init__()\n",
        "        self.dropout = nn.Dropout(p=p)\n",
        "        self.lstm = nn.LSTM(num_feature,int(num_feature/2),num_layers=2,batch_first=True,bidirectional=True)\n",
        "        self.fc = nn.Linear(num_feature,1)\n",
        "\n",
        "    def forward(self,x,h,c):\n",
        "        drop_D = self.dropout(x)\n",
        "        out,(h,c) = self.lstm(x,(h,c))\n",
        "        out = F.sigmoid(self.fc(out))\n",
        "        return out"
      ],
      "execution_count": 39,
      "outputs": []
    },
    {
      "cell_type": "code",
      "metadata": {
        "colab": {
          "base_uri": "https://localhost:8080/"
        },
        "id": "luZ9iYDMvdGQ",
        "outputId": "d3445bdd-cf7a-4b1e-a20c-27047c346da0"
      },
      "source": [
        "x = torch.randn(2,3,88)\n",
        "h = torch.randn(4,2,44)\n",
        "c = torch.randn(4,2,44)\n",
        "model = Discriminator(88)\n",
        "out = model(x,h,c)\n",
        "print(out.shape)"
      ],
      "execution_count": 41,
      "outputs": [
        {
          "output_type": "stream",
          "text": [
            "torch.Size([2, 3, 1])\n"
          ],
          "name": "stdout"
        },
        {
          "output_type": "stream",
          "text": [
            "/usr/local/lib/python3.6/dist-packages/torch/nn/functional.py:1639: UserWarning: nn.functional.sigmoid is deprecated. Use torch.sigmoid instead.\n",
            "  warnings.warn(\"nn.functional.sigmoid is deprecated. Use torch.sigmoid instead.\")\n"
          ],
          "name": "stderr"
        }
      ]
    }
  ]
}